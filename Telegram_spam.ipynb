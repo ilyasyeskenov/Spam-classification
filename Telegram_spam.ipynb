{
  "nbformat": 4,
  "nbformat_minor": 0,
  "metadata": {
    "colab": {
      "provenance": []
    },
    "kernelspec": {
      "name": "python3",
      "display_name": "Python 3"
    },
    "language_info": {
      "name": "python"
    }
  },
  "cells": [
    {
      "cell_type": "code",
      "execution_count": null,
      "metadata": {
        "id": "lMcAURiJlRzb"
      },
      "outputs": [],
      "source": [
        "import nltk\n",
        "import string\n",
        "import seaborn as sns\n",
        "import pandas as pd"
      ]
    },
    {
      "cell_type": "code",
      "source": [
        "# nltk.download()"
      ],
      "metadata": {
        "id": "FnoUAlCASbvm"
      },
      "execution_count": null,
      "outputs": []
    },
    {
      "cell_type": "code",
      "source": [
        "from google.colab import drive\n",
        "drive.mount('/content/drive')\n",
        "\n",
        "file_path = '/content/drive/My Drive/Colab Notebooks/dataset.csv'"
      ],
      "metadata": {
        "colab": {
          "base_uri": "https://localhost:8080/"
        },
        "id": "EAPuMukATMCL",
        "outputId": "4306b1d3-16e5-437d-bbcd-9acd18b68c63"
      },
      "execution_count": null,
      "outputs": [
        {
          "output_type": "stream",
          "name": "stdout",
          "text": [
            "Mounted at /content/drive\n"
          ]
        }
      ]
    },
    {
      "cell_type": "code",
      "source": [
        "#Reading the dataset\n",
        "\n",
        "spam_text = pd.read_csv(file_path, header=0, names = ['label', 'text'])\n",
        "spam_text.head(5)"
      ],
      "metadata": {
        "colab": {
          "base_uri": "https://localhost:8080/",
          "height": 206
        },
        "id": "65pliwtVScB4",
        "outputId": "1a75a3f5-340c-41ed-c10c-e1f4ff6f1867"
      },
      "execution_count": null,
      "outputs": [
        {
          "output_type": "execute_result",
          "data": {
            "text/plain": [
              "  label                                               text\n",
              "0  spam  naturally irresistible your corporate identity...\n",
              "1  spam  the stock trading gunslinger fanny is merrill ...\n",
              "2  spam  unbelievable new homes made easy im wanting to...\n",
              "3  spam  4 color printing special request additional in...\n",
              "4  spam  do not have money get software cds from here s..."
            ],
            "text/html": [
              "\n",
              "  <div id=\"df-c4cddb7b-d44b-4f28-a628-948e51cb492d\" class=\"colab-df-container\">\n",
              "    <div>\n",
              "<style scoped>\n",
              "    .dataframe tbody tr th:only-of-type {\n",
              "        vertical-align: middle;\n",
              "    }\n",
              "\n",
              "    .dataframe tbody tr th {\n",
              "        vertical-align: top;\n",
              "    }\n",
              "\n",
              "    .dataframe thead th {\n",
              "        text-align: right;\n",
              "    }\n",
              "</style>\n",
              "<table border=\"1\" class=\"dataframe\">\n",
              "  <thead>\n",
              "    <tr style=\"text-align: right;\">\n",
              "      <th></th>\n",
              "      <th>label</th>\n",
              "      <th>text</th>\n",
              "    </tr>\n",
              "  </thead>\n",
              "  <tbody>\n",
              "    <tr>\n",
              "      <th>0</th>\n",
              "      <td>spam</td>\n",
              "      <td>naturally irresistible your corporate identity...</td>\n",
              "    </tr>\n",
              "    <tr>\n",
              "      <th>1</th>\n",
              "      <td>spam</td>\n",
              "      <td>the stock trading gunslinger fanny is merrill ...</td>\n",
              "    </tr>\n",
              "    <tr>\n",
              "      <th>2</th>\n",
              "      <td>spam</td>\n",
              "      <td>unbelievable new homes made easy im wanting to...</td>\n",
              "    </tr>\n",
              "    <tr>\n",
              "      <th>3</th>\n",
              "      <td>spam</td>\n",
              "      <td>4 color printing special request additional in...</td>\n",
              "    </tr>\n",
              "    <tr>\n",
              "      <th>4</th>\n",
              "      <td>spam</td>\n",
              "      <td>do not have money get software cds from here s...</td>\n",
              "    </tr>\n",
              "  </tbody>\n",
              "</table>\n",
              "</div>\n",
              "    <div class=\"colab-df-buttons\">\n",
              "\n",
              "  <div class=\"colab-df-container\">\n",
              "    <button class=\"colab-df-convert\" onclick=\"convertToInteractive('df-c4cddb7b-d44b-4f28-a628-948e51cb492d')\"\n",
              "            title=\"Convert this dataframe to an interactive table.\"\n",
              "            style=\"display:none;\">\n",
              "\n",
              "  <svg xmlns=\"http://www.w3.org/2000/svg\" height=\"24px\" viewBox=\"0 -960 960 960\">\n",
              "    <path d=\"M120-120v-720h720v720H120Zm60-500h600v-160H180v160Zm220 220h160v-160H400v160Zm0 220h160v-160H400v160ZM180-400h160v-160H180v160Zm440 0h160v-160H620v160ZM180-180h160v-160H180v160Zm440 0h160v-160H620v160Z\"/>\n",
              "  </svg>\n",
              "    </button>\n",
              "\n",
              "  <style>\n",
              "    .colab-df-container {\n",
              "      display:flex;\n",
              "      gap: 12px;\n",
              "    }\n",
              "\n",
              "    .colab-df-convert {\n",
              "      background-color: #E8F0FE;\n",
              "      border: none;\n",
              "      border-radius: 50%;\n",
              "      cursor: pointer;\n",
              "      display: none;\n",
              "      fill: #1967D2;\n",
              "      height: 32px;\n",
              "      padding: 0 0 0 0;\n",
              "      width: 32px;\n",
              "    }\n",
              "\n",
              "    .colab-df-convert:hover {\n",
              "      background-color: #E2EBFA;\n",
              "      box-shadow: 0px 1px 2px rgba(60, 64, 67, 0.3), 0px 1px 3px 1px rgba(60, 64, 67, 0.15);\n",
              "      fill: #174EA6;\n",
              "    }\n",
              "\n",
              "    .colab-df-buttons div {\n",
              "      margin-bottom: 4px;\n",
              "    }\n",
              "\n",
              "    [theme=dark] .colab-df-convert {\n",
              "      background-color: #3B4455;\n",
              "      fill: #D2E3FC;\n",
              "    }\n",
              "\n",
              "    [theme=dark] .colab-df-convert:hover {\n",
              "      background-color: #434B5C;\n",
              "      box-shadow: 0px 1px 3px 1px rgba(0, 0, 0, 0.15);\n",
              "      filter: drop-shadow(0px 1px 2px rgba(0, 0, 0, 0.3));\n",
              "      fill: #FFFFFF;\n",
              "    }\n",
              "  </style>\n",
              "\n",
              "    <script>\n",
              "      const buttonEl =\n",
              "        document.querySelector('#df-c4cddb7b-d44b-4f28-a628-948e51cb492d button.colab-df-convert');\n",
              "      buttonEl.style.display =\n",
              "        google.colab.kernel.accessAllowed ? 'block' : 'none';\n",
              "\n",
              "      async function convertToInteractive(key) {\n",
              "        const element = document.querySelector('#df-c4cddb7b-d44b-4f28-a628-948e51cb492d');\n",
              "        const dataTable =\n",
              "          await google.colab.kernel.invokeFunction('convertToInteractive',\n",
              "                                                    [key], {});\n",
              "        if (!dataTable) return;\n",
              "\n",
              "        const docLinkHtml = 'Like what you see? Visit the ' +\n",
              "          '<a target=\"_blank\" href=https://colab.research.google.com/notebooks/data_table.ipynb>data table notebook</a>'\n",
              "          + ' to learn more about interactive tables.';\n",
              "        element.innerHTML = '';\n",
              "        dataTable['output_type'] = 'display_data';\n",
              "        await google.colab.output.renderOutput(dataTable, element);\n",
              "        const docLink = document.createElement('div');\n",
              "        docLink.innerHTML = docLinkHtml;\n",
              "        element.appendChild(docLink);\n",
              "      }\n",
              "    </script>\n",
              "  </div>\n",
              "\n",
              "\n",
              "<div id=\"df-2bde1c5b-1d87-496e-8448-24fbf4bbe726\">\n",
              "  <button class=\"colab-df-quickchart\" onclick=\"quickchart('df-2bde1c5b-1d87-496e-8448-24fbf4bbe726')\"\n",
              "            title=\"Suggest charts\"\n",
              "            style=\"display:none;\">\n",
              "\n",
              "<svg xmlns=\"http://www.w3.org/2000/svg\" height=\"24px\"viewBox=\"0 0 24 24\"\n",
              "     width=\"24px\">\n",
              "    <g>\n",
              "        <path d=\"M19 3H5c-1.1 0-2 .9-2 2v14c0 1.1.9 2 2 2h14c1.1 0 2-.9 2-2V5c0-1.1-.9-2-2-2zM9 17H7v-7h2v7zm4 0h-2V7h2v10zm4 0h-2v-4h2v4z\"/>\n",
              "    </g>\n",
              "</svg>\n",
              "  </button>\n",
              "\n",
              "<style>\n",
              "  .colab-df-quickchart {\n",
              "      --bg-color: #E8F0FE;\n",
              "      --fill-color: #1967D2;\n",
              "      --hover-bg-color: #E2EBFA;\n",
              "      --hover-fill-color: #174EA6;\n",
              "      --disabled-fill-color: #AAA;\n",
              "      --disabled-bg-color: #DDD;\n",
              "  }\n",
              "\n",
              "  [theme=dark] .colab-df-quickchart {\n",
              "      --bg-color: #3B4455;\n",
              "      --fill-color: #D2E3FC;\n",
              "      --hover-bg-color: #434B5C;\n",
              "      --hover-fill-color: #FFFFFF;\n",
              "      --disabled-bg-color: #3B4455;\n",
              "      --disabled-fill-color: #666;\n",
              "  }\n",
              "\n",
              "  .colab-df-quickchart {\n",
              "    background-color: var(--bg-color);\n",
              "    border: none;\n",
              "    border-radius: 50%;\n",
              "    cursor: pointer;\n",
              "    display: none;\n",
              "    fill: var(--fill-color);\n",
              "    height: 32px;\n",
              "    padding: 0;\n",
              "    width: 32px;\n",
              "  }\n",
              "\n",
              "  .colab-df-quickchart:hover {\n",
              "    background-color: var(--hover-bg-color);\n",
              "    box-shadow: 0 1px 2px rgba(60, 64, 67, 0.3), 0 1px 3px 1px rgba(60, 64, 67, 0.15);\n",
              "    fill: var(--button-hover-fill-color);\n",
              "  }\n",
              "\n",
              "  .colab-df-quickchart-complete:disabled,\n",
              "  .colab-df-quickchart-complete:disabled:hover {\n",
              "    background-color: var(--disabled-bg-color);\n",
              "    fill: var(--disabled-fill-color);\n",
              "    box-shadow: none;\n",
              "  }\n",
              "\n",
              "  .colab-df-spinner {\n",
              "    border: 2px solid var(--fill-color);\n",
              "    border-color: transparent;\n",
              "    border-bottom-color: var(--fill-color);\n",
              "    animation:\n",
              "      spin 1s steps(1) infinite;\n",
              "  }\n",
              "\n",
              "  @keyframes spin {\n",
              "    0% {\n",
              "      border-color: transparent;\n",
              "      border-bottom-color: var(--fill-color);\n",
              "      border-left-color: var(--fill-color);\n",
              "    }\n",
              "    20% {\n",
              "      border-color: transparent;\n",
              "      border-left-color: var(--fill-color);\n",
              "      border-top-color: var(--fill-color);\n",
              "    }\n",
              "    30% {\n",
              "      border-color: transparent;\n",
              "      border-left-color: var(--fill-color);\n",
              "      border-top-color: var(--fill-color);\n",
              "      border-right-color: var(--fill-color);\n",
              "    }\n",
              "    40% {\n",
              "      border-color: transparent;\n",
              "      border-right-color: var(--fill-color);\n",
              "      border-top-color: var(--fill-color);\n",
              "    }\n",
              "    60% {\n",
              "      border-color: transparent;\n",
              "      border-right-color: var(--fill-color);\n",
              "    }\n",
              "    80% {\n",
              "      border-color: transparent;\n",
              "      border-right-color: var(--fill-color);\n",
              "      border-bottom-color: var(--fill-color);\n",
              "    }\n",
              "    90% {\n",
              "      border-color: transparent;\n",
              "      border-bottom-color: var(--fill-color);\n",
              "    }\n",
              "  }\n",
              "</style>\n",
              "\n",
              "  <script>\n",
              "    async function quickchart(key) {\n",
              "      const quickchartButtonEl =\n",
              "        document.querySelector('#' + key + ' button');\n",
              "      quickchartButtonEl.disabled = true;  // To prevent multiple clicks.\n",
              "      quickchartButtonEl.classList.add('colab-df-spinner');\n",
              "      try {\n",
              "        const charts = await google.colab.kernel.invokeFunction(\n",
              "            'suggestCharts', [key], {});\n",
              "      } catch (error) {\n",
              "        console.error('Error during call to suggestCharts:', error);\n",
              "      }\n",
              "      quickchartButtonEl.classList.remove('colab-df-spinner');\n",
              "      quickchartButtonEl.classList.add('colab-df-quickchart-complete');\n",
              "    }\n",
              "    (() => {\n",
              "      let quickchartButtonEl =\n",
              "        document.querySelector('#df-2bde1c5b-1d87-496e-8448-24fbf4bbe726 button');\n",
              "      quickchartButtonEl.style.display =\n",
              "        google.colab.kernel.accessAllowed ? 'block' : 'none';\n",
              "    })();\n",
              "  </script>\n",
              "</div>\n",
              "    </div>\n",
              "  </div>\n"
            ],
            "application/vnd.google.colaboratory.intrinsic+json": {
              "type": "dataframe",
              "variable_name": "spam_text",
              "summary": "{\n  \"name\": \"spam_text\",\n  \"rows\": 20348,\n  \"fields\": [\n    {\n      \"column\": \"label\",\n      \"properties\": {\n        \"dtype\": \"category\",\n        \"num_unique_values\": 2,\n        \"samples\": [\n          \"ham\",\n          \"spam\"\n        ],\n        \"semantic_type\": \"\",\n        \"description\": \"\"\n      }\n    },\n    {\n      \"column\": \"text\",\n      \"properties\": {\n        \"dtype\": \"string\",\n        \"num_unique_values\": 20334,\n        \"samples\": [\n          \"nofew hours beforewent to hair cut\",\n          \"so i could kiss and feel you next to me\"\n        ],\n        \"semantic_type\": \"\",\n        \"description\": \"\"\n      }\n    }\n  ]\n}"
            }
          },
          "metadata": {},
          "execution_count": 5
        }
      ]
    },
    {
      "cell_type": "code",
      "source": [
        "spam_text.info()"
      ],
      "metadata": {
        "colab": {
          "base_uri": "https://localhost:8080/"
        },
        "id": "cvKHmaG8ScEk",
        "outputId": "e65606cb-2c91-426f-a2cd-395d44419bc4"
      },
      "execution_count": null,
      "outputs": [
        {
          "output_type": "stream",
          "name": "stdout",
          "text": [
            "<class 'pandas.core.frame.DataFrame'>\n",
            "RangeIndex: 20348 entries, 0 to 20347\n",
            "Data columns (total 2 columns):\n",
            " #   Column  Non-Null Count  Dtype \n",
            "---  ------  --------------  ----- \n",
            " 0   label   20348 non-null  object\n",
            " 1   text    20348 non-null  object\n",
            "dtypes: object(2)\n",
            "memory usage: 318.1+ KB\n"
          ]
        }
      ]
    },
    {
      "cell_type": "code",
      "source": [
        "spam_text.describe()"
      ],
      "metadata": {
        "colab": {
          "base_uri": "https://localhost:8080/",
          "height": 174
        },
        "id": "uJzNBKzOScHW",
        "outputId": "74651665-a742-4510-d966-40ef34e584b2"
      },
      "execution_count": null,
      "outputs": [
        {
          "output_type": "execute_result",
          "data": {
            "text/plain": [
              "        label                                               text\n",
              "count   20348                                              20348\n",
              "unique      2                                              20334\n",
              "top       ham  SPAM ALERT  🚔  User:     Username: @DillyBubbl...\n",
              "freq    14337                                                  8"
            ],
            "text/html": [
              "\n",
              "  <div id=\"df-b87791ac-ef0f-44a5-a20d-c476c761ce0d\" class=\"colab-df-container\">\n",
              "    <div>\n",
              "<style scoped>\n",
              "    .dataframe tbody tr th:only-of-type {\n",
              "        vertical-align: middle;\n",
              "    }\n",
              "\n",
              "    .dataframe tbody tr th {\n",
              "        vertical-align: top;\n",
              "    }\n",
              "\n",
              "    .dataframe thead th {\n",
              "        text-align: right;\n",
              "    }\n",
              "</style>\n",
              "<table border=\"1\" class=\"dataframe\">\n",
              "  <thead>\n",
              "    <tr style=\"text-align: right;\">\n",
              "      <th></th>\n",
              "      <th>label</th>\n",
              "      <th>text</th>\n",
              "    </tr>\n",
              "  </thead>\n",
              "  <tbody>\n",
              "    <tr>\n",
              "      <th>count</th>\n",
              "      <td>20348</td>\n",
              "      <td>20348</td>\n",
              "    </tr>\n",
              "    <tr>\n",
              "      <th>unique</th>\n",
              "      <td>2</td>\n",
              "      <td>20334</td>\n",
              "    </tr>\n",
              "    <tr>\n",
              "      <th>top</th>\n",
              "      <td>ham</td>\n",
              "      <td>SPAM ALERT  🚔  User:     Username: @DillyBubbl...</td>\n",
              "    </tr>\n",
              "    <tr>\n",
              "      <th>freq</th>\n",
              "      <td>14337</td>\n",
              "      <td>8</td>\n",
              "    </tr>\n",
              "  </tbody>\n",
              "</table>\n",
              "</div>\n",
              "    <div class=\"colab-df-buttons\">\n",
              "\n",
              "  <div class=\"colab-df-container\">\n",
              "    <button class=\"colab-df-convert\" onclick=\"convertToInteractive('df-b87791ac-ef0f-44a5-a20d-c476c761ce0d')\"\n",
              "            title=\"Convert this dataframe to an interactive table.\"\n",
              "            style=\"display:none;\">\n",
              "\n",
              "  <svg xmlns=\"http://www.w3.org/2000/svg\" height=\"24px\" viewBox=\"0 -960 960 960\">\n",
              "    <path d=\"M120-120v-720h720v720H120Zm60-500h600v-160H180v160Zm220 220h160v-160H400v160Zm0 220h160v-160H400v160ZM180-400h160v-160H180v160Zm440 0h160v-160H620v160ZM180-180h160v-160H180v160Zm440 0h160v-160H620v160Z\"/>\n",
              "  </svg>\n",
              "    </button>\n",
              "\n",
              "  <style>\n",
              "    .colab-df-container {\n",
              "      display:flex;\n",
              "      gap: 12px;\n",
              "    }\n",
              "\n",
              "    .colab-df-convert {\n",
              "      background-color: #E8F0FE;\n",
              "      border: none;\n",
              "      border-radius: 50%;\n",
              "      cursor: pointer;\n",
              "      display: none;\n",
              "      fill: #1967D2;\n",
              "      height: 32px;\n",
              "      padding: 0 0 0 0;\n",
              "      width: 32px;\n",
              "    }\n",
              "\n",
              "    .colab-df-convert:hover {\n",
              "      background-color: #E2EBFA;\n",
              "      box-shadow: 0px 1px 2px rgba(60, 64, 67, 0.3), 0px 1px 3px 1px rgba(60, 64, 67, 0.15);\n",
              "      fill: #174EA6;\n",
              "    }\n",
              "\n",
              "    .colab-df-buttons div {\n",
              "      margin-bottom: 4px;\n",
              "    }\n",
              "\n",
              "    [theme=dark] .colab-df-convert {\n",
              "      background-color: #3B4455;\n",
              "      fill: #D2E3FC;\n",
              "    }\n",
              "\n",
              "    [theme=dark] .colab-df-convert:hover {\n",
              "      background-color: #434B5C;\n",
              "      box-shadow: 0px 1px 3px 1px rgba(0, 0, 0, 0.15);\n",
              "      filter: drop-shadow(0px 1px 2px rgba(0, 0, 0, 0.3));\n",
              "      fill: #FFFFFF;\n",
              "    }\n",
              "  </style>\n",
              "\n",
              "    <script>\n",
              "      const buttonEl =\n",
              "        document.querySelector('#df-b87791ac-ef0f-44a5-a20d-c476c761ce0d button.colab-df-convert');\n",
              "      buttonEl.style.display =\n",
              "        google.colab.kernel.accessAllowed ? 'block' : 'none';\n",
              "\n",
              "      async function convertToInteractive(key) {\n",
              "        const element = document.querySelector('#df-b87791ac-ef0f-44a5-a20d-c476c761ce0d');\n",
              "        const dataTable =\n",
              "          await google.colab.kernel.invokeFunction('convertToInteractive',\n",
              "                                                    [key], {});\n",
              "        if (!dataTable) return;\n",
              "\n",
              "        const docLinkHtml = 'Like what you see? Visit the ' +\n",
              "          '<a target=\"_blank\" href=https://colab.research.google.com/notebooks/data_table.ipynb>data table notebook</a>'\n",
              "          + ' to learn more about interactive tables.';\n",
              "        element.innerHTML = '';\n",
              "        dataTable['output_type'] = 'display_data';\n",
              "        await google.colab.output.renderOutput(dataTable, element);\n",
              "        const docLink = document.createElement('div');\n",
              "        docLink.innerHTML = docLinkHtml;\n",
              "        element.appendChild(docLink);\n",
              "      }\n",
              "    </script>\n",
              "  </div>\n",
              "\n",
              "\n",
              "<div id=\"df-755901c1-5659-49f1-af92-0bb00e09f411\">\n",
              "  <button class=\"colab-df-quickchart\" onclick=\"quickchart('df-755901c1-5659-49f1-af92-0bb00e09f411')\"\n",
              "            title=\"Suggest charts\"\n",
              "            style=\"display:none;\">\n",
              "\n",
              "<svg xmlns=\"http://www.w3.org/2000/svg\" height=\"24px\"viewBox=\"0 0 24 24\"\n",
              "     width=\"24px\">\n",
              "    <g>\n",
              "        <path d=\"M19 3H5c-1.1 0-2 .9-2 2v14c0 1.1.9 2 2 2h14c1.1 0 2-.9 2-2V5c0-1.1-.9-2-2-2zM9 17H7v-7h2v7zm4 0h-2V7h2v10zm4 0h-2v-4h2v4z\"/>\n",
              "    </g>\n",
              "</svg>\n",
              "  </button>\n",
              "\n",
              "<style>\n",
              "  .colab-df-quickchart {\n",
              "      --bg-color: #E8F0FE;\n",
              "      --fill-color: #1967D2;\n",
              "      --hover-bg-color: #E2EBFA;\n",
              "      --hover-fill-color: #174EA6;\n",
              "      --disabled-fill-color: #AAA;\n",
              "      --disabled-bg-color: #DDD;\n",
              "  }\n",
              "\n",
              "  [theme=dark] .colab-df-quickchart {\n",
              "      --bg-color: #3B4455;\n",
              "      --fill-color: #D2E3FC;\n",
              "      --hover-bg-color: #434B5C;\n",
              "      --hover-fill-color: #FFFFFF;\n",
              "      --disabled-bg-color: #3B4455;\n",
              "      --disabled-fill-color: #666;\n",
              "  }\n",
              "\n",
              "  .colab-df-quickchart {\n",
              "    background-color: var(--bg-color);\n",
              "    border: none;\n",
              "    border-radius: 50%;\n",
              "    cursor: pointer;\n",
              "    display: none;\n",
              "    fill: var(--fill-color);\n",
              "    height: 32px;\n",
              "    padding: 0;\n",
              "    width: 32px;\n",
              "  }\n",
              "\n",
              "  .colab-df-quickchart:hover {\n",
              "    background-color: var(--hover-bg-color);\n",
              "    box-shadow: 0 1px 2px rgba(60, 64, 67, 0.3), 0 1px 3px 1px rgba(60, 64, 67, 0.15);\n",
              "    fill: var(--button-hover-fill-color);\n",
              "  }\n",
              "\n",
              "  .colab-df-quickchart-complete:disabled,\n",
              "  .colab-df-quickchart-complete:disabled:hover {\n",
              "    background-color: var(--disabled-bg-color);\n",
              "    fill: var(--disabled-fill-color);\n",
              "    box-shadow: none;\n",
              "  }\n",
              "\n",
              "  .colab-df-spinner {\n",
              "    border: 2px solid var(--fill-color);\n",
              "    border-color: transparent;\n",
              "    border-bottom-color: var(--fill-color);\n",
              "    animation:\n",
              "      spin 1s steps(1) infinite;\n",
              "  }\n",
              "\n",
              "  @keyframes spin {\n",
              "    0% {\n",
              "      border-color: transparent;\n",
              "      border-bottom-color: var(--fill-color);\n",
              "      border-left-color: var(--fill-color);\n",
              "    }\n",
              "    20% {\n",
              "      border-color: transparent;\n",
              "      border-left-color: var(--fill-color);\n",
              "      border-top-color: var(--fill-color);\n",
              "    }\n",
              "    30% {\n",
              "      border-color: transparent;\n",
              "      border-left-color: var(--fill-color);\n",
              "      border-top-color: var(--fill-color);\n",
              "      border-right-color: var(--fill-color);\n",
              "    }\n",
              "    40% {\n",
              "      border-color: transparent;\n",
              "      border-right-color: var(--fill-color);\n",
              "      border-top-color: var(--fill-color);\n",
              "    }\n",
              "    60% {\n",
              "      border-color: transparent;\n",
              "      border-right-color: var(--fill-color);\n",
              "    }\n",
              "    80% {\n",
              "      border-color: transparent;\n",
              "      border-right-color: var(--fill-color);\n",
              "      border-bottom-color: var(--fill-color);\n",
              "    }\n",
              "    90% {\n",
              "      border-color: transparent;\n",
              "      border-bottom-color: var(--fill-color);\n",
              "    }\n",
              "  }\n",
              "</style>\n",
              "\n",
              "  <script>\n",
              "    async function quickchart(key) {\n",
              "      const quickchartButtonEl =\n",
              "        document.querySelector('#' + key + ' button');\n",
              "      quickchartButtonEl.disabled = true;  // To prevent multiple clicks.\n",
              "      quickchartButtonEl.classList.add('colab-df-spinner');\n",
              "      try {\n",
              "        const charts = await google.colab.kernel.invokeFunction(\n",
              "            'suggestCharts', [key], {});\n",
              "      } catch (error) {\n",
              "        console.error('Error during call to suggestCharts:', error);\n",
              "      }\n",
              "      quickchartButtonEl.classList.remove('colab-df-spinner');\n",
              "      quickchartButtonEl.classList.add('colab-df-quickchart-complete');\n",
              "    }\n",
              "    (() => {\n",
              "      let quickchartButtonEl =\n",
              "        document.querySelector('#df-755901c1-5659-49f1-af92-0bb00e09f411 button');\n",
              "      quickchartButtonEl.style.display =\n",
              "        google.colab.kernel.accessAllowed ? 'block' : 'none';\n",
              "    })();\n",
              "  </script>\n",
              "</div>\n",
              "    </div>\n",
              "  </div>\n"
            ],
            "application/vnd.google.colaboratory.intrinsic+json": {
              "type": "dataframe",
              "summary": "{\n  \"name\": \"spam_text\",\n  \"rows\": 4,\n  \"fields\": [\n    {\n      \"column\": \"label\",\n      \"properties\": {\n        \"dtype\": \"string\",\n        \"num_unique_values\": 4,\n        \"samples\": [\n          2,\n          \"14337\",\n          \"20348\"\n        ],\n        \"semantic_type\": \"\",\n        \"description\": \"\"\n      }\n    },\n    {\n      \"column\": \"text\",\n      \"properties\": {\n        \"dtype\": \"string\",\n        \"num_unique_values\": 4,\n        \"samples\": [\n          20334,\n          \"8\",\n          \"20348\"\n        ],\n        \"semantic_type\": \"\",\n        \"description\": \"\"\n      }\n    }\n  ]\n}"
            }
          },
          "metadata": {},
          "execution_count": 7
        }
      ]
    },
    {
      "cell_type": "code",
      "source": [
        "spam_text.groupby(['label']).size()"
      ],
      "metadata": {
        "colab": {
          "base_uri": "https://localhost:8080/"
        },
        "id": "xB5IFwyCSleK",
        "outputId": "b47b6c7d-944c-47dd-e42b-2b3d5d08d243"
      },
      "execution_count": null,
      "outputs": [
        {
          "output_type": "execute_result",
          "data": {
            "text/plain": [
              "label\n",
              "ham     14337\n",
              "spam     6011\n",
              "dtype: int64"
            ]
          },
          "metadata": {},
          "execution_count": 8
        }
      ]
    },
    {
      "cell_type": "code",
      "source": [
        "import matplotlib.pyplot as plt\n",
        "\n",
        "spam_text_label = spam_text['label'].value_counts()\n",
        "\n",
        "plt.barh(spam_text_label.index, spam_text_label)\n",
        "plt.ylabel(\"Label Name\")\n",
        "plt.xlabel(\"Number of Label\")\n",
        "plt.title(\"Number of Label by Label Name\");\n",
        "\n",
        "for i, v in enumerate(spam_text_label):\n",
        "    plt.text(v + 3, i, str(v))\n",
        "\n",
        "plt.show()"
      ],
      "metadata": {
        "colab": {
          "base_uri": "https://localhost:8080/",
          "height": 472
        },
        "id": "0mumJZ7MSlfE",
        "outputId": "e63da622-32f4-4577-d1a3-fd094bcc0918"
      },
      "execution_count": null,
      "outputs": [
        {
          "output_type": "display_data",
          "data": {
            "text/plain": [
              "<Figure size 640x480 with 1 Axes>"
            ],
            "image/png": "[encoded data removed]"
          },
          "metadata": {}
        }
      ]
    },
    {
      "cell_type": "markdown",
      "source": [
        "## EDA"
      ],
      "metadata": {
        "id": "IqzEfcQASqJ2"
      }
    },
    {
      "cell_type": "code",
      "source": [
        "spam_text[\"length\"] = spam_text['text'].str.len()\n",
        "pd.reset_option('display.max_colwidth')\n",
        "spam_text.head()"
      ],
      "metadata": {
        "colab": {
          "base_uri": "https://localhost:8080/",
          "height": 206
        },
        "id": "mzOHAyLCSlgp",
        "outputId": "32f1ab35-4987-415a-8c79-199cd8f851fc"
      },
      "execution_count": null,
      "outputs": [
        {
          "output_type": "execute_result",
          "data": {
            "text/plain": [
              "  label                                               text  length\n",
              "0  spam  naturally irresistible your corporate identity...     769\n",
              "1  spam  the stock trading gunslinger fanny is merrill ...     585\n",
              "2  spam  unbelievable new homes made easy im wanting to...     416\n",
              "3  spam  4 color printing special request additional in...     436\n",
              "4  spam  do not have money get software cds from here s...     199"
            ],
            "text/html": [
              "\n",
              "  <div id=\"df-d4f2156a-5aad-4a68-b448-1f5a5c079606\" class=\"colab-df-container\">\n",
              "    <div>\n",
              "<style scoped>\n",
              "    .dataframe tbody tr th:only-of-type {\n",
              "        vertical-align: middle;\n",
              "    }\n",
              "\n",
              "    .dataframe tbody tr th {\n",
              "        vertical-align: top;\n",
              "    }\n",
              "\n",
              "    .dataframe thead th {\n",
              "        text-align: right;\n",
              "    }\n",
              "</style>\n",
              "<table border=\"1\" class=\"dataframe\">\n",
              "  <thead>\n",
              "    <tr style=\"text-align: right;\">\n",
              "      <th></th>\n",
              "      <th>label</th>\n",
              "      <th>text</th>\n",
              "      <th>length</th>\n",
              "    </tr>\n",
              "  </thead>\n",
              "  <tbody>\n",
              "    <tr>\n",
              "      <th>0</th>\n",
              "      <td>spam</td>\n",
              "      <td>naturally irresistible your corporate identity...</td>\n",
              "      <td>769</td>\n",
              "    </tr>\n",
              "    <tr>\n",
              "      <th>1</th>\n",
              "      <td>spam</td>\n",
              "      <td>the stock trading gunslinger fanny is merrill ...</td>\n",
              "      <td>585</td>\n",
              "    </tr>\n",
              "    <tr>\n",
              "      <th>2</th>\n",
              "      <td>spam</td>\n",
              "      <td>unbelievable new homes made easy im wanting to...</td>\n",
              "      <td>416</td>\n",
              "    </tr>\n",
              "    <tr>\n",
              "      <th>3</th>\n",
              "      <td>spam</td>\n",
              "      <td>4 color printing special request additional in...</td>\n",
              "      <td>436</td>\n",
              "    </tr>\n",
              "    <tr>\n",
              "      <th>4</th>\n",
              "      <td>spam</td>\n",
              "      <td>do not have money get software cds from here s...</td>\n",
              "      <td>199</td>\n",
              "    </tr>\n",
              "  </tbody>\n",
              "</table>\n",
              "</div>\n",
              "    <div class=\"colab-df-buttons\">\n",
              "\n",
              "  <div class=\"colab-df-container\">\n",
              "    <button class=\"colab-df-convert\" onclick=\"convertToInteractive('df-d4f2156a-5aad-4a68-b448-1f5a5c079606')\"\n",
              "            title=\"Convert this dataframe to an interactive table.\"\n",
              "            style=\"display:none;\">\n",
              "\n",
              "  <svg xmlns=\"http://www.w3.org/2000/svg\" height=\"24px\" viewBox=\"0 -960 960 960\">\n",
              "    <path d=\"M120-120v-720h720v720H120Zm60-500h600v-160H180v160Zm220 220h160v-160H400v160Zm0 220h160v-160H400v160ZM180-400h160v-160H180v160Zm440 0h160v-160H620v160ZM180-180h160v-160H180v160Zm440 0h160v-160H620v160Z\"/>\n",
              "  </svg>\n",
              "    </button>\n",
              "\n",
              "  <style>\n",
              "    .colab-df-container {\n",
              "      display:flex;\n",
              "      gap: 12px;\n",
              "    }\n",
              "\n",
              "    .colab-df-convert {\n",
              "      background-color: #E8F0FE;\n",
              "      border: none;\n",
              "      border-radius: 50%;\n",
              "      cursor: pointer;\n",
              "      display: none;\n",
              "      fill: #1967D2;\n",
              "      height: 32px;\n",
              "      padding: 0 0 0 0;\n",
              "      width: 32px;\n",
              "    }\n",
              "\n",
              "    .colab-df-convert:hover {\n",
              "      background-color: #E2EBFA;\n",
              "      box-shadow: 0px 1px 2px rgba(60, 64, 67, 0.3), 0px 1px 3px 1px rgba(60, 64, 67, 0.15);\n",
              "      fill: #174EA6;\n",
              "    }\n",
              "\n",
              "    .colab-df-buttons div {\n",
              "      margin-bottom: 4px;\n",
              "    }\n",
              "\n",
              "    [theme=dark] .colab-df-convert {\n",
              "      background-color: #3B4455;\n",
              "      fill: #D2E3FC;\n",
              "    }\n",
              "\n",
              "    [theme=dark] .colab-df-convert:hover {\n",
              "      background-color: #434B5C;\n",
              "      box-shadow: 0px 1px 3px 1px rgba(0, 0, 0, 0.15);\n",
              "      filter: drop-shadow(0px 1px 2px rgba(0, 0, 0, 0.3));\n",
              "      fill: #FFFFFF;\n",
              "    }\n",
              "  </style>\n",
              "\n",
              "    <script>\n",
              "      const buttonEl =\n",
              "        document.querySelector('#df-d4f2156a-5aad-4a68-b448-1f5a5c079606 button.colab-df-convert');\n",
              "      buttonEl.style.display =\n",
              "        google.colab.kernel.accessAllowed ? 'block' : 'none';\n",
              "\n",
              "      async function convertToInteractive(key) {\n",
              "        const element = document.querySelector('#df-d4f2156a-5aad-4a68-b448-1f5a5c079606');\n",
              "        const dataTable =\n",
              "          await google.colab.kernel.invokeFunction('convertToInteractive',\n",
              "                                                    [key], {});\n",
              "        if (!dataTable) return;\n",
              "\n",
              "        const docLinkHtml = 'Like what you see? Visit the ' +\n",
              "          '<a target=\"_blank\" href=https://colab.research.google.com/notebooks/data_table.ipynb>data table notebook</a>'\n",
              "          + ' to learn more about interactive tables.';\n",
              "        element.innerHTML = '';\n",
              "        dataTable['output_type'] = 'display_data';\n",
              "        await google.colab.output.renderOutput(dataTable, element);\n",
              "        const docLink = document.createElement('div');\n",
              "        docLink.innerHTML = docLinkHtml;\n",
              "        element.appendChild(docLink);\n",
              "      }\n",
              "    </script>\n",
              "  </div>\n",
              "\n",
              "\n",
              "<div id=\"df-3eb8e301-54a8-4644-96ff-639248613756\">\n",
              "  <button class=\"colab-df-quickchart\" onclick=\"quickchart('df-3eb8e301-54a8-4644-96ff-639248613756')\"\n",
              "            title=\"Suggest charts\"\n",
              "            style=\"display:none;\">\n",
              "\n",
              "<svg xmlns=\"http://www.w3.org/2000/svg\" height=\"24px\"viewBox=\"0 0 24 24\"\n",
              "     width=\"24px\">\n",
              "    <g>\n",
              "        <path d=\"M19 3H5c-1.1 0-2 .9-2 2v14c0 1.1.9 2 2 2h14c1.1 0 2-.9 2-2V5c0-1.1-.9-2-2-2zM9 17H7v-7h2v7zm4 0h-2V7h2v10zm4 0h-2v-4h2v4z\"/>\n",
              "    </g>\n",
              "</svg>\n",
              "  </button>\n",
              "\n",
              "<style>\n",
              "  .colab-df-quickchart {\n",
              "      --bg-color: #E8F0FE;\n",
              "      --fill-color: #1967D2;\n",
              "      --hover-bg-color: #E2EBFA;\n",
              "      --hover-fill-color: #174EA6;\n",
              "      --disabled-fill-color: #AAA;\n",
              "      --disabled-bg-color: #DDD;\n",
              "  }\n",
              "\n",
              "  [theme=dark] .colab-df-quickchart {\n",
              "      --bg-color: #3B4455;\n",
              "      --fill-color: #D2E3FC;\n",
              "      --hover-bg-color: #434B5C;\n",
              "      --hover-fill-color: #FFFFFF;\n",
              "      --disabled-bg-color: #3B4455;\n",
              "      --disabled-fill-color: #666;\n",
              "  }\n",
              "\n",
              "  .colab-df-quickchart {\n",
              "    background-color: var(--bg-color);\n",
              "    border: none;\n",
              "    border-radius: 50%;\n",
              "    cursor: pointer;\n",
              "    display: none;\n",
              "    fill: var(--fill-color);\n",
              "    height: 32px;\n",
              "    padding: 0;\n",
              "    width: 32px;\n",
              "  }\n",
              "\n",
              "  .colab-df-quickchart:hover {\n",
              "    background-color: var(--hover-bg-color);\n",
              "    box-shadow: 0 1px 2px rgba(60, 64, 67, 0.3), 0 1px 3px 1px rgba(60, 64, 67, 0.15);\n",
              "    fill: var(--button-hover-fill-color);\n",
              "  }\n",
              "\n",
              "  .colab-df-quickchart-complete:disabled,\n",
              "  .colab-df-quickchart-complete:disabled:hover {\n",
              "    background-color: var(--disabled-bg-color);\n",
              "    fill: var(--disabled-fill-color);\n",
              "    box-shadow: none;\n",
              "  }\n",
              "\n",
              "  .colab-df-spinner {\n",
              "    border: 2px solid var(--fill-color);\n",
              "    border-color: transparent;\n",
              "    border-bottom-color: var(--fill-color);\n",
              "    animation:\n",
              "      spin 1s steps(1) infinite;\n",
              "  }\n",
              "\n",
              "  @keyframes spin {\n",
              "    0% {\n",
              "      border-color: transparent;\n",
              "      border-bottom-color: var(--fill-color);\n",
              "      border-left-color: var(--fill-color);\n",
              "    }\n",
              "    20% {\n",
              "      border-color: transparent;\n",
              "      border-left-color: var(--fill-color);\n",
              "      border-top-color: var(--fill-color);\n",
              "    }\n",
              "    30% {\n",
              "      border-color: transparent;\n",
              "      border-left-color: var(--fill-color);\n",
              "      border-top-color: var(--fill-color);\n",
              "      border-right-color: var(--fill-color);\n",
              "    }\n",
              "    40% {\n",
              "      border-color: transparent;\n",
              "      border-right-color: var(--fill-color);\n",
              "      border-top-color: var(--fill-color);\n",
              "    }\n",
              "    60% {\n",
              "      border-color: transparent;\n",
              "      border-right-color: var(--fill-color);\n",
              "    }\n",
              "    80% {\n",
              "      border-color: transparent;\n",
              "      border-right-color: var(--fill-color);\n",
              "      border-bottom-color: var(--fill-color);\n",
              "    }\n",
              "    90% {\n",
              "      border-color: transparent;\n",
              "      border-bottom-color: var(--fill-color);\n",
              "    }\n",
              "  }\n",
              "</style>\n",
              "\n",
              "  <script>\n",
              "    async function quickchart(key) {\n",
              "      const quickchartButtonEl =\n",
              "        document.querySelector('#' + key + ' button');\n",
              "      quickchartButtonEl.disabled = true;  // To prevent multiple clicks.\n",
              "      quickchartButtonEl.classList.add('colab-df-spinner');\n",
              "      try {\n",
              "        const charts = await google.colab.kernel.invokeFunction(\n",
              "            'suggestCharts', [key], {});\n",
              "      } catch (error) {\n",
              "        console.error('Error during call to suggestCharts:', error);\n",
              "      }\n",
              "      quickchartButtonEl.classList.remove('colab-df-spinner');\n",
              "      quickchartButtonEl.classList.add('colab-df-quickchart-complete');\n",
              "    }\n",
              "    (() => {\n",
              "      let quickchartButtonEl =\n",
              "        document.querySelector('#df-3eb8e301-54a8-4644-96ff-639248613756 button');\n",
              "      quickchartButtonEl.style.display =\n",
              "        google.colab.kernel.accessAllowed ? 'block' : 'none';\n",
              "    })();\n",
              "  </script>\n",
              "</div>\n",
              "    </div>\n",
              "  </div>\n"
            ],
            "application/vnd.google.colaboratory.intrinsic+json": {
              "type": "dataframe",
              "variable_name": "spam_text",
              "summary": "{\n  \"name\": \"spam_text\",\n  \"rows\": 20348,\n  \"fields\": [\n    {\n      \"column\": \"label\",\n      \"properties\": {\n        \"dtype\": \"category\",\n        \"num_unique_values\": 2,\n        \"samples\": [\n          \"ham\",\n          \"spam\"\n        ],\n        \"semantic_type\": \"\",\n        \"description\": \"\"\n      }\n    },\n    {\n      \"column\": \"text\",\n      \"properties\": {\n        \"dtype\": \"string\",\n        \"num_unique_values\": 20334,\n        \"samples\": [\n          \"nofew hours beforewent to hair cut\",\n          \"so i could kiss and feel you next to me\"\n        ],\n        \"semantic_type\": \"\",\n        \"description\": \"\"\n      }\n    },\n    {\n      \"column\": \"length\",\n      \"properties\": {\n        \"dtype\": \"number\",\n        \"std\": 288,\n        \"min\": 1,\n        \"max\": 800,\n        \"num_unique_values\": 799,\n        \"samples\": [\n          65,\n          105\n        ],\n        \"semantic_type\": \"\",\n        \"description\": \"\"\n      }\n    }\n  ]\n}"
            }
          },
          "metadata": {},
          "execution_count": 10
        }
      ]
    },
    {
      "cell_type": "code",
      "source": [
        "sns.displot(spam_text[\"length\"], bins=50)"
      ],
      "metadata": {
        "colab": {
          "base_uri": "https://localhost:8080/",
          "height": 523
        },
        "id": "qWRXGzE5Slh2",
        "outputId": "980b2d29-a112-4078-90ba-0ba59fd511f5"
      },
      "execution_count": null,
      "outputs": [
        {
          "output_type": "execute_result",
          "data": {
            "text/plain": [
              "<seaborn.axisgrid.FacetGrid at 0x7f7b3ad0c130>"
            ]
          },
          "metadata": {},
          "execution_count": 11
        },
        {
          "output_type": "display_data",
          "data": {
            "text/plain": [
              "<Figure size 500x500 with 1 Axes>"
            ],
            "image/png": "[encoded data removed]"
          },
          "metadata": {}
        }
      ]
    },
    {
      "cell_type": "code",
      "source": [
        "spam_text.sort_values(by='length').iloc[-1]['text']"
      ],
      "metadata": {
        "colab": {
          "base_uri": "https://localhost:8080/",
          "height": 105
        },
        "id": "wTZujcQmSljQ",
        "outputId": "33f589b3-a9eb-4acd-e700-b102e5aa7f8b"
      },
      "execution_count": null,
      "outputs": [
        {
          "output_type": "execute_result",
          "data": {
            "text/plain": [
              "'use perl daily newsletter in this issue damian conway publishes exegesis 1635465 1635465nd open source cms conference damian conway publishes exegesis 1635465 posted by hfb on friday august 1635465 1635465 1635465 perl1635465 url an anonymous coward writes 1635465 has a 1635465 link to 1635465 damian s 1635465 exegesis 1635465 discuss this story at url links 1635465 url 1635465 url 1635465 url 1635465 url 1635465nd open source cms conference posted by ziggy on friday august 1635465 1635465 1635465 events url 1635465 gregor j rothfuss writes there will be a second 1635465 open source cms conference this fall in berkeley we will feature presentations and workshops from a wide range of cms and would definitely welcome some perl fu in there as well also of interest our efforts to 1635465 build'"
            ],
            "application/vnd.google.colaboratory.intrinsic+json": {
              "type": "string"
            }
          },
          "metadata": {},
          "execution_count": 12
        }
      ]
    },
    {
      "cell_type": "code",
      "source": [
        "spam_text.sort_values(by='length').iloc[0]['text']"
      ],
      "metadata": {
        "colab": {
          "base_uri": "https://localhost:8080/",
          "height": 35
        },
        "id": "6VGeIBxuSlkj",
        "outputId": "d7300840-6dc7-424c-c521-637c4af9b424"
      },
      "execution_count": null,
      "outputs": [
        {
          "output_type": "execute_result",
          "data": {
            "text/plain": [
              "'👍'"
            ],
            "application/vnd.google.colaboratory.intrinsic+json": {
              "type": "string"
            }
          },
          "metadata": {},
          "execution_count": 13
        }
      ]
    },
    {
      "cell_type": "code",
      "source": [
        "spam_text.hist(column='length',by='label',bins=50,figsize=(12,6))\n",
        "plt.suptitle('Histogram of Text Length by Label')\n",
        "plt.xlabel('Text Length')\n",
        "plt.ylabel('Count')\n",
        "plt.show()"
      ],
      "metadata": {
        "colab": {
          "base_uri": "https://localhost:8080/",
          "height": 590
        },
        "id": "hFDi8QrFSllp",
        "outputId": "c82e6d6c-3f36-49fe-efce-30213ee4455c"
      },
      "execution_count": null,
      "outputs": [
        {
          "output_type": "display_data",
          "data": {
            "text/plain": [
              "<Figure size 1200x600 with 2 Axes>"
            ],
            "image/png": "[encoded data removed]"
          },
          "metadata": {}
        }
      ]
    },
    {
      "cell_type": "markdown",
      "source": [
        "## Text preprocessing"
      ],
      "metadata": {
        "id": "PtDUMAB4T9aS"
      }
    },
    {
      "cell_type": "code",
      "source": [
        "nltk.download('stopwords')"
      ],
      "metadata": {
        "colab": {
          "base_uri": "https://localhost:8080/"
        },
        "id": "kYv0ZncLWaZH",
        "outputId": "655008f2-42aa-4bcb-d6bf-b0a4b73a715b"
      },
      "execution_count": null,
      "outputs": [
        {
          "output_type": "stream",
          "name": "stderr",
          "text": [
            "[nltk_data] Downloading package stopwords to /root/nltk_data...\n",
            "[nltk_data]   Unzipping corpora/stopwords.zip.\n"
          ]
        },
        {
          "output_type": "execute_result",
          "data": {
            "text/plain": [
              "True"
            ]
          },
          "metadata": {},
          "execution_count": 15
        }
      ]
    },
    {
      "cell_type": "code",
      "source": [
        "import string\n",
        "import re\n",
        "from nltk.corpus import stopwords\n",
        "\n",
        "def remove_emojis(text):\n",
        "    emoji_pattern = re.compile(\"[\"\n",
        "        u\"\\U0001F600-\\U0001F64F\"  # emoticons\n",
        "        u\"\\U0001F300-\\U0001F5FF\"  # symbols & pictographs\n",
        "        u\"\\U0001F680-\\U0001F6FF\"  # transport & map symbols\n",
        "        u\"\\U0001F1E0-\\U0001F1FF\"  # flags (iOS)\n",
        "        u\"\\U00002500-\\U00002BEF\"  # chinese char\n",
        "        u\"\\U00002702-\\U000027B0\"\n",
        "        u\"\\U00002702-\\U000027B0\"\n",
        "        u\"\\U000024C2-\\U0001F251\"\n",
        "        u\"\\U0001f926-\\U0001f937\"\n",
        "        u\"\\U00010000-\\U0010ffff\"\n",
        "        u\"\\u2640-\\u2642\"\n",
        "        u\"\\u2600-\\u2B55\"\n",
        "        u\"\\u200d\"\n",
        "        u\"\\u23cf\"\n",
        "        u\"\\u23e9\"\n",
        "        u\"\\u231a\"\n",
        "        u\"\\ufe0f\"  # dingbats\n",
        "        u\"\\u3030\"\n",
        "                      \"]+\", re.UNICODE)\n",
        "    text_without_emoji = emoji_pattern.sub(r'', text)\n",
        "    return text_without_emoji\n",
        "\n",
        "def text_processing_emoji(text):\n",
        "    # Remove emojis\n",
        "    text = remove_emojis(text)\n",
        "\n",
        "    # Remove punctuations\n",
        "    translator = str.maketrans('', '', string.punctuation)\n",
        "    text = text.translate(translator)\n",
        "    text = text.lower()\n",
        "\n",
        "    tokens = []\n",
        "    for word in text.split():\n",
        "        if word not in stopwords.words('english'):\n",
        "            tokens.append(word)\n",
        "\n",
        "    return tokens\n",
        "\n",
        "def text_processing(text):\n",
        "    tokens = []\n",
        "    #remove punctuations\n",
        "    translator = str.maketrans('','',string.punctuation)\n",
        "    text = text.translate(translator)\n",
        "    text = text.lower()\n",
        "    for word in text.split():\n",
        "      if word not in stopwords.words('english'):\n",
        "        tokens.append(word)\n",
        "\n",
        "    return tokens\n",
        "\n",
        "\n",
        "print(text_processing(\"This sample text contains laughing emojis 😀 😃 😄 😁 😆 😅 😂 🤣\"))"
      ],
      "metadata": {
        "colab": {
          "base_uri": "https://localhost:8080/"
        },
        "id": "9ofYo08CSlm5",
        "outputId": "e6e79210-dce3-474d-efe5-3ab977e6c466"
      },
      "execution_count": null,
      "outputs": [
        {
          "output_type": "stream",
          "name": "stdout",
          "text": [
            "['sample', 'text', 'contains', 'laughing', 'emojis', '😀', '😃', '😄', '😁', '😆', '😅', '😂', '🤣']\n"
          ]
        }
      ]
    },
    {
      "cell_type": "code",
      "source": [
        "#spam_text['word_emoji'] = spam_text['text'].apply(text_processing)"
      ],
      "metadata": {
        "id": "VRSif8Z7Sln8"
      },
      "execution_count": null,
      "outputs": []
    },
    {
      "cell_type": "code",
      "source": [
        "spam_text['word'] = spam_text['text'].apply(text_processing_emoji)"
      ],
      "metadata": {
        "id": "1qa92hJqUFQH"
      },
      "execution_count": null,
      "outputs": []
    },
    {
      "cell_type": "code",
      "source": [
        "spam_text.head()"
      ],
      "metadata": {
        "colab": {
          "base_uri": "https://localhost:8080/",
          "height": 206
        },
        "id": "7AmhlsGmUHxa",
        "outputId": "d36fae04-afe1-44b6-f2d1-f3ee0b1d0960"
      },
      "execution_count": null,
      "outputs": [
        {
          "output_type": "execute_result",
          "data": {
            "text/plain": [
              "  label                                               text  length  \\\n",
              "0  spam  naturally irresistible your corporate identity...     769   \n",
              "1  spam  the stock trading gunslinger fanny is merrill ...     585   \n",
              "2  spam  unbelievable new homes made easy im wanting to...     416   \n",
              "3  spam  4 color printing special request additional in...     436   \n",
              "4  spam  do not have money get software cds from here s...     199   \n",
              "\n",
              "                                                word  \n",
              "0  [naturally, irresistible, corporate, identity,...  \n",
              "1  [stock, trading, gunslinger, fanny, merrill, m...  \n",
              "2  [unbelievable, new, homes, made, easy, im, wan...  \n",
              "3  [4, color, printing, special, request, additio...  \n",
              "4  [money, get, software, cds, software, compatib...  "
            ],
            "text/html": [
              "\n",
              "  <div id=\"df-bf9ebeb8-2e87-49a9-ac2d-aa320d1de48a\" class=\"colab-df-container\">\n",
              "    <div>\n",
              "<style scoped>\n",
              "    .dataframe tbody tr th:only-of-type {\n",
              "        vertical-align: middle;\n",
              "    }\n",
              "\n",
              "    .dataframe tbody tr th {\n",
              "        vertical-align: top;\n",
              "    }\n",
              "\n",
              "    .dataframe thead th {\n",
              "        text-align: right;\n",
              "    }\n",
              "</style>\n",
              "<table border=\"1\" class=\"dataframe\">\n",
              "  <thead>\n",
              "    <tr style=\"text-align: right;\">\n",
              "      <th></th>\n",
              "      <th>label</th>\n",
              "      <th>text</th>\n",
              "      <th>length</th>\n",
              "      <th>word</th>\n",
              "    </tr>\n",
              "  </thead>\n",
              "  <tbody>\n",
              "    <tr>\n",
              "      <th>0</th>\n",
              "      <td>spam</td>\n",
              "      <td>naturally irresistible your corporate identity...</td>\n",
              "      <td>769</td>\n",
              "      <td>[naturally, irresistible, corporate, identity,...</td>\n",
              "    </tr>\n",
              "    <tr>\n",
              "      <th>1</th>\n",
              "      <td>spam</td>\n",
              "      <td>the stock trading gunslinger fanny is merrill ...</td>\n",
              "      <td>585</td>\n",
              "      <td>[stock, trading, gunslinger, fanny, merrill, m...</td>\n",
              "    </tr>\n",
              "    <tr>\n",
              "      <th>2</th>\n",
              "      <td>spam</td>\n",
              "      <td>unbelievable new homes made easy im wanting to...</td>\n",
              "      <td>416</td>\n",
              "      <td>[unbelievable, new, homes, made, easy, im, wan...</td>\n",
              "    </tr>\n",
              "    <tr>\n",
              "      <th>3</th>\n",
              "      <td>spam</td>\n",
              "      <td>4 color printing special request additional in...</td>\n",
              "      <td>436</td>\n",
              "      <td>[4, color, printing, special, request, additio...</td>\n",
              "    </tr>\n",
              "    <tr>\n",
              "      <th>4</th>\n",
              "      <td>spam</td>\n",
              "      <td>do not have money get software cds from here s...</td>\n",
              "      <td>199</td>\n",
              "      <td>[money, get, software, cds, software, compatib...</td>\n",
              "    </tr>\n",
              "  </tbody>\n",
              "</table>\n",
              "</div>\n",
              "    <div class=\"colab-df-buttons\">\n",
              "\n",
              "  <div class=\"colab-df-container\">\n",
              "    <button class=\"colab-df-convert\" onclick=\"convertToInteractive('df-bf9ebeb8-2e87-49a9-ac2d-aa320d1de48a')\"\n",
              "            title=\"Convert this dataframe to an interactive table.\"\n",
              "            style=\"display:none;\">\n",
              "\n",
              "  <svg xmlns=\"http://www.w3.org/2000/svg\" height=\"24px\" viewBox=\"0 -960 960 960\">\n",
              "    <path d=\"M120-120v-720h720v720H120Zm60-500h600v-160H180v160Zm220 220h160v-160H400v160Zm0 220h160v-160H400v160ZM180-400h160v-160H180v160Zm440 0h160v-160H620v160ZM180-180h160v-160H180v160Zm440 0h160v-160H620v160Z\"/>\n",
              "  </svg>\n",
              "    </button>\n",
              "\n",
              "  <style>\n",
              "    .colab-df-container {\n",
              "      display:flex;\n",
              "      gap: 12px;\n",
              "    }\n",
              "\n",
              "    .colab-df-convert {\n",
              "      background-color: #E8F0FE;\n",
              "      border: none;\n",
              "      border-radius: 50%;\n",
              "      cursor: pointer;\n",
              "      display: none;\n",
              "      fill: #1967D2;\n",
              "      height: 32px;\n",
              "      padding: 0 0 0 0;\n",
              "      width: 32px;\n",
              "    }\n",
              "\n",
              "    .colab-df-convert:hover {\n",
              "      background-color: #E2EBFA;\n",
              "      box-shadow: 0px 1px 2px rgba(60, 64, 67, 0.3), 0px 1px 3px 1px rgba(60, 64, 67, 0.15);\n",
              "      fill: #174EA6;\n",
              "    }\n",
              "\n",
              "    .colab-df-buttons div {\n",
              "      margin-bottom: 4px;\n",
              "    }\n",
              "\n",
              "    [theme=dark] .colab-df-convert {\n",
              "      background-color: #3B4455;\n",
              "      fill: #D2E3FC;\n",
              "    }\n",
              "\n",
              "    [theme=dark] .colab-df-convert:hover {\n",
              "      background-color: #434B5C;\n",
              "      box-shadow: 0px 1px 3px 1px rgba(0, 0, 0, 0.15);\n",
              "      filter: drop-shadow(0px 1px 2px rgba(0, 0, 0, 0.3));\n",
              "      fill: #FFFFFF;\n",
              "    }\n",
              "  </style>\n",
              "\n",
              "    <script>\n",
              "      const buttonEl =\n",
              "        document.querySelector('#df-bf9ebeb8-2e87-49a9-ac2d-aa320d1de48a button.colab-df-convert');\n",
              "      buttonEl.style.display =\n",
              "        google.colab.kernel.accessAllowed ? 'block' : 'none';\n",
              "\n",
              "      async function convertToInteractive(key) {\n",
              "        const element = document.querySelector('#df-bf9ebeb8-2e87-49a9-ac2d-aa320d1de48a');\n",
              "        const dataTable =\n",
              "          await google.colab.kernel.invokeFunction('convertToInteractive',\n",
              "                                                    [key], {});\n",
              "        if (!dataTable) return;\n",
              "\n",
              "        const docLinkHtml = 'Like what you see? Visit the ' +\n",
              "          '<a target=\"_blank\" href=https://colab.research.google.com/notebooks/data_table.ipynb>data table notebook</a>'\n",
              "          + ' to learn more about interactive tables.';\n",
              "        element.innerHTML = '';\n",
              "        dataTable['output_type'] = 'display_data';\n",
              "        await google.colab.output.renderOutput(dataTable, element);\n",
              "        const docLink = document.createElement('div');\n",
              "        docLink.innerHTML = docLinkHtml;\n",
              "        element.appendChild(docLink);\n",
              "      }\n",
              "    </script>\n",
              "  </div>\n",
              "\n",
              "\n",
              "<div id=\"df-c207ab8c-968a-4ba3-a7c6-33ca92b3335b\">\n",
              "  <button class=\"colab-df-quickchart\" onclick=\"quickchart('df-c207ab8c-968a-4ba3-a7c6-33ca92b3335b')\"\n",
              "            title=\"Suggest charts\"\n",
              "            style=\"display:none;\">\n",
              "\n",
              "<svg xmlns=\"http://www.w3.org/2000/svg\" height=\"24px\"viewBox=\"0 0 24 24\"\n",
              "     width=\"24px\">\n",
              "    <g>\n",
              "        <path d=\"M19 3H5c-1.1 0-2 .9-2 2v14c0 1.1.9 2 2 2h14c1.1 0 2-.9 2-2V5c0-1.1-.9-2-2-2zM9 17H7v-7h2v7zm4 0h-2V7h2v10zm4 0h-2v-4h2v4z\"/>\n",
              "    </g>\n",
              "</svg>\n",
              "  </button>\n",
              "\n",
              "<style>\n",
              "  .colab-df-quickchart {\n",
              "      --bg-color: #E8F0FE;\n",
              "      --fill-color: #1967D2;\n",
              "      --hover-bg-color: #E2EBFA;\n",
              "      --hover-fill-color: #174EA6;\n",
              "      --disabled-fill-color: #AAA;\n",
              "      --disabled-bg-color: #DDD;\n",
              "  }\n",
              "\n",
              "  [theme=dark] .colab-df-quickchart {\n",
              "      --bg-color: #3B4455;\n",
              "      --fill-color: #D2E3FC;\n",
              "      --hover-bg-color: #434B5C;\n",
              "      --hover-fill-color: #FFFFFF;\n",
              "      --disabled-bg-color: #3B4455;\n",
              "      --disabled-fill-color: #666;\n",
              "  }\n",
              "\n",
              "  .colab-df-quickchart {\n",
              "    background-color: var(--bg-color);\n",
              "    border: none;\n",
              "    border-radius: 50%;\n",
              "    cursor: pointer;\n",
              "    display: none;\n",
              "    fill: var(--fill-color);\n",
              "    height: 32px;\n",
              "    padding: 0;\n",
              "    width: 32px;\n",
              "  }\n",
              "\n",
              "  .colab-df-quickchart:hover {\n",
              "    background-color: var(--hover-bg-color);\n",
              "    box-shadow: 0 1px 2px rgba(60, 64, 67, 0.3), 0 1px 3px 1px rgba(60, 64, 67, 0.15);\n",
              "    fill: var(--button-hover-fill-color);\n",
              "  }\n",
              "\n",
              "  .colab-df-quickchart-complete:disabled,\n",
              "  .colab-df-quickchart-complete:disabled:hover {\n",
              "    background-color: var(--disabled-bg-color);\n",
              "    fill: var(--disabled-fill-color);\n",
              "    box-shadow: none;\n",
              "  }\n",
              "\n",
              "  .colab-df-spinner {\n",
              "    border: 2px solid var(--fill-color);\n",
              "    border-color: transparent;\n",
              "    border-bottom-color: var(--fill-color);\n",
              "    animation:\n",
              "      spin 1s steps(1) infinite;\n",
              "  }\n",
              "\n",
              "  @keyframes spin {\n",
              "    0% {\n",
              "      border-color: transparent;\n",
              "      border-bottom-color: var(--fill-color);\n",
              "      border-left-color: var(--fill-color);\n",
              "    }\n",
              "    20% {\n",
              "      border-color: transparent;\n",
              "      border-left-color: var(--fill-color);\n",
              "      border-top-color: var(--fill-color);\n",
              "    }\n",
              "    30% {\n",
              "      border-color: transparent;\n",
              "      border-left-color: var(--fill-color);\n",
              "      border-top-color: var(--fill-color);\n",
              "      border-right-color: var(--fill-color);\n",
              "    }\n",
              "    40% {\n",
              "      border-color: transparent;\n",
              "      border-right-color: var(--fill-color);\n",
              "      border-top-color: var(--fill-color);\n",
              "    }\n",
              "    60% {\n",
              "      border-color: transparent;\n",
              "      border-right-color: var(--fill-color);\n",
              "    }\n",
              "    80% {\n",
              "      border-color: transparent;\n",
              "      border-right-color: var(--fill-color);\n",
              "      border-bottom-color: var(--fill-color);\n",
              "    }\n",
              "    90% {\n",
              "      border-color: transparent;\n",
              "      border-bottom-color: var(--fill-color);\n",
              "    }\n",
              "  }\n",
              "</style>\n",
              "\n",
              "  <script>\n",
              "    async function quickchart(key) {\n",
              "      const quickchartButtonEl =\n",
              "        document.querySelector('#' + key + ' button');\n",
              "      quickchartButtonEl.disabled = true;  // To prevent multiple clicks.\n",
              "      quickchartButtonEl.classList.add('colab-df-spinner');\n",
              "      try {\n",
              "        const charts = await google.colab.kernel.invokeFunction(\n",
              "            'suggestCharts', [key], {});\n",
              "      } catch (error) {\n",
              "        console.error('Error during call to suggestCharts:', error);\n",
              "      }\n",
              "      quickchartButtonEl.classList.remove('colab-df-spinner');\n",
              "      quickchartButtonEl.classList.add('colab-df-quickchart-complete');\n",
              "    }\n",
              "    (() => {\n",
              "      let quickchartButtonEl =\n",
              "        document.querySelector('#df-c207ab8c-968a-4ba3-a7c6-33ca92b3335b button');\n",
              "      quickchartButtonEl.style.display =\n",
              "        google.colab.kernel.accessAllowed ? 'block' : 'none';\n",
              "    })();\n",
              "  </script>\n",
              "</div>\n",
              "    </div>\n",
              "  </div>\n"
            ],
            "application/vnd.google.colaboratory.intrinsic+json": {
              "type": "dataframe",
              "variable_name": "spam_text",
              "summary": "{\n  \"name\": \"spam_text\",\n  \"rows\": 20348,\n  \"fields\": [\n    {\n      \"column\": \"label\",\n      \"properties\": {\n        \"dtype\": \"category\",\n        \"num_unique_values\": 2,\n        \"samples\": [\n          \"ham\",\n          \"spam\"\n        ],\n        \"semantic_type\": \"\",\n        \"description\": \"\"\n      }\n    },\n    {\n      \"column\": \"text\",\n      \"properties\": {\n        \"dtype\": \"string\",\n        \"num_unique_values\": 20334,\n        \"samples\": [\n          \"nofew hours beforewent to hair cut\",\n          \"so i could kiss and feel you next to me\"\n        ],\n        \"semantic_type\": \"\",\n        \"description\": \"\"\n      }\n    },\n    {\n      \"column\": \"length\",\n      \"properties\": {\n        \"dtype\": \"number\",\n        \"std\": 288,\n        \"min\": 1,\n        \"max\": 800,\n        \"num_unique_values\": 799,\n        \"samples\": [\n          65,\n          105\n        ],\n        \"semantic_type\": \"\",\n        \"description\": \"\"\n      }\n    },\n    {\n      \"column\": \"word\",\n      \"properties\": {\n        \"dtype\": \"object\",\n        \"semantic_type\": \"\",\n        \"description\": \"\"\n      }\n    }\n  ]\n}"
            }
          },
          "metadata": {},
          "execution_count": 17
        }
      ]
    },
    {
      "cell_type": "markdown",
      "source": [
        "## Word Cloud"
      ],
      "metadata": {
        "id": "sylE8ltaMeJO"
      }
    },
    {
      "cell_type": "code",
      "source": [
        "!pip install wordcloud\n",
        "from wordcloud import WordCloud\n",
        "import matplotlib.pyplot as plt"
      ],
      "metadata": {
        "id": "_zaCjtpkMguV"
      },
      "execution_count": null,
      "outputs": []
    },
    {
      "cell_type": "code",
      "source": [
        "spam_column = spam_text[spam_text['label'] == 'spam']\n",
        "text = ' '.join(spam_column['word'].astype(str))\n",
        "\n",
        "# Create a WordCloud object\n",
        "wordcloud = WordCloud(width=800, height=400, background_color='white').generate(text)\n",
        "\n",
        "# Plot the word cloud\n",
        "plt.figure(figsize=(10, 5))\n",
        "plt.imshow(wordcloud, interpolation='bilinear')\n",
        "plt.axis('off')\n",
        "plt.show()"
      ],
      "metadata": {
        "id": "XBLXkU6XMlfs"
      },
      "execution_count": null,
      "outputs": []
    },
    {
      "cell_type": "code",
      "source": [
        "ham_column = spam_text[spam_text['label'] == 'ham']\n",
        "text = ' '.join(ham_column['word'].astype(str))\n",
        "\n",
        "# Create a WordCloud object\n",
        "wordcloud = WordCloud(width=800, height=400, background_color='white').generate(text)\n",
        "\n",
        "# Plot the word cloud\n",
        "plt.figure(figsize=(10, 5))\n",
        "plt.imshow(wordcloud, interpolation='bilinear')\n",
        "plt.axis('off')\n",
        "plt.show()"
      ],
      "metadata": {
        "id": "VNYyD14hMmsE"
      },
      "execution_count": null,
      "outputs": []
    },
    {
      "cell_type": "code",
      "source": [
        "!pip install scikit-learn"
      ],
      "metadata": {
        "id": "XS5Yq69FMnxq"
      },
      "execution_count": null,
      "outputs": []
    },
    {
      "cell_type": "code",
      "source": [
        "from sklearn.pipeline import Pipeline"
      ],
      "metadata": {
        "id": "G_8omkrBMotv"
      },
      "execution_count": null,
      "outputs": []
    },
    {
      "cell_type": "markdown",
      "source": [
        "## Split data set to train & test with 20%"
      ],
      "metadata": {
        "id": "3KsQtnNFVG4t"
      }
    },
    {
      "cell_type": "code",
      "source": [
        "from sklearn.model_selection import train_test_split\n",
        "from sklearn.metrics import accuracy_score, precision_score, recall_score, f1_score\n",
        "\n",
        "x_train, x_test, y_train, y_test = train_test_split(spam_text['text'],spam_text['label'], test_size=0.2, random_state=42)"
      ],
      "metadata": {
        "id": "7ztkVtWOUv1a"
      },
      "execution_count": null,
      "outputs": []
    },
    {
      "cell_type": "markdown",
      "source": [
        "# Model Building"
      ],
      "metadata": {
        "id": "ulnr8Ky7VaCz"
      }
    },
    {
      "cell_type": "code",
      "source": [
        "from sklearn.svm import SVC\n",
        "from sklearn.naive_bayes import MultinomialNB\n",
        "from sklearn.linear_model import LogisticRegression\n",
        "\n",
        "from sklearn.feature_extraction.text import TfidfVectorizer\n",
        "from sklearn.feature_extraction.text import CountVectorizer\n",
        "\n",
        "NB = MultinomialNB()\n",
        "SVM = SVC(kernel='rbf')\n",
        "lr = LogisticRegression()\n",
        "\n",
        "bow_vectorizer = CountVectorizer(analyzer=text_processing_emoji)\n",
        "tf_vectorizer = TfidfVectorizer(analyzer=text_processing_emoji)"
      ],
      "metadata": {
        "id": "n080eId98Epc"
      },
      "execution_count": null,
      "outputs": []
    },
    {
      "cell_type": "code",
      "source": [
        "def vectorizer(vectorizer, ngram = 1):\n",
        "  if vectorizer == 'bow':\n",
        "      vectorizer = CountVectorizer(ngram_range= (1, ngram))\n",
        "  elif vectorizer == 'tf':\n",
        "      vectorizer = TfidfVectorizer(ngram_range= (1, ngram))\n",
        "  else:\n",
        "        raise ValueError(\"Invalid type\")\n",
        "\n",
        "  x_train_counts = vectorizer.fit_transform(x_train)\n",
        "  x_test_counts = vectorizer.transform(x_test)\n",
        "\n",
        "  return x_train_counts, x_test_counts\n",
        "\n",
        "#showing the results\n",
        "def results(y_test, y_pred):\n",
        "  print(\"Accuracy: \", accuracy_score(y_test, y_pred))\n",
        "\n",
        "  precision = precision_score(y_test, y_pred, pos_label='spam')\n",
        "  print(\"Precision: \", precision)\n",
        "\n",
        "  recall = recall_score(y_test, y_pred, pos_label='spam')\n",
        "  print(\"Recall: \", recall)\n",
        "\n",
        "  f1 = f1_score(y_test, y_pred, pos_label='spam')\n",
        "  print(\"F1 Score: \", f1)\n",
        "\n",
        "def model_run(classifier, train_counts, test_counts):\n",
        "  # Train classifier\n",
        "  classifier.fit(train_counts, y_train)\n",
        "\n",
        "  # Make predictions on the test data\n",
        "  y_pred = classifier.predict(test_counts)\n",
        "\n",
        "  results(y_test, y_pred)"
      ],
      "metadata": {
        "id": "2nrzoS3V-Kgk"
      },
      "execution_count": null,
      "outputs": []
    },
    {
      "cell_type": "code",
      "source": [
        "def vectorizer(vectorizer, ngram = 1, stop_words = False):\n",
        "  if stop_words == False:\n",
        "    if vectorizer == 'bow':\n",
        "        vectorizer = CountVectorizer(ngram_range = (1, ngram))\n",
        "    elif vectorizer == 'tf':\n",
        "        vectorizer = TfidfVectorizer(ngram_range= (1, ngram))\n",
        "    else:\n",
        "          raise ValueError(\"Invalid type\")\n",
        "\n",
        "  #if removing stopwords\n",
        "  else:\n",
        "    if vectorizer == 'bow':\n",
        "        vectorizer = CountVectorizer(ngram_range = (1, ngram), stop_words = \"english\")\n",
        "    elif vectorizer == 'tf':\n",
        "        vectorizer = TfidfVectorizer(ngram_range= (1, ngram))\n",
        "    else:\n",
        "          raise ValueError(\"Invalid type\")\n",
        "\n",
        "  x_train_counts = vectorizer.fit_transform(x_train)\n",
        "  x_test_counts = vectorizer.transform(x_test)\n",
        "\n",
        "  return x_train_counts, x_test_counts"
      ],
      "metadata": {
        "id": "nEszrAsDuw1F"
      },
      "execution_count": null,
      "outputs": []
    },
    {
      "cell_type": "markdown",
      "source": [
        "## **Naive Bayes**"
      ],
      "metadata": {
        "id": "VPetQ_EAmzpL"
      }
    },
    {
      "cell_type": "markdown",
      "source": [
        "#### BOW"
      ],
      "metadata": {
        "id": "zUBhI5OryjNP"
      }
    },
    {
      "cell_type": "code",
      "source": [
        "#Trying different ngrams\n",
        "print(\"Results for BOW with 1-grams:\")\n",
        "print(\" \")\n",
        "\n",
        "x_train_counts, x_test_counts = vectorizer('bow')\n",
        "model_run(NB, x_train_counts, x_test_counts)\n",
        "\n",
        "print(\"-----------------------------\")\n",
        "print(\"Results for BOW with 2-grams:\")\n",
        "print(\" \")\n",
        "\n",
        "x_train_counts, x_test_counts = vectorizer('bow', ngram = 2)\n",
        "model_run(NB, x_train_counts, x_test_counts)\n",
        "\n",
        "print(\"-----------------------------\")\n",
        "print(\"Results for BOW with 3-grams:\")\n",
        "print(\" \")\n",
        "\n",
        "x_train_counts, x_test_counts = vectorizer('bow', ngram = 3)\n",
        "model_run(NB, x_train_counts, x_test_counts)\n",
        "\n",
        "print(\"-----------------------------\")\n",
        "print(\"Results for BOW with 4-grams:\")\n",
        "print(\" \")\n",
        "\n",
        "x_train_counts, x_test_counts = vectorizer('bow', ngram = 4)\n",
        "model_run(NB, x_train_counts, x_test_counts)"
      ],
      "metadata": {
        "colab": {
          "base_uri": "https://localhost:8080/"
        },
        "id": "zlmMKBjY_tnS",
        "outputId": "a232381e-1fba-45ca-914a-a3b6709fb8cb"
      },
      "execution_count": null,
      "outputs": [
        {
          "output_type": "stream",
          "name": "stdout",
          "text": [
            "Results for BOW with 1-grams:\n",
            " \n",
            "Accuracy:  0.9164619164619164\n",
            "Precision:  0.8149575944487278\n",
            "Recall:  0.9135695764909249\n",
            "F1 Score:  0.8614506927465363\n",
            "-----------------------------\n",
            "Results for BOW with 2-grams:\n",
            " \n",
            "Accuracy:  0.9282555282555283\n",
            "Precision:  0.8643639427127211\n",
            "Recall:  0.8867761452031115\n",
            "F1 Score:  0.8754266211604095\n",
            "-----------------------------\n",
            "Results for BOW with 3-grams:\n",
            " \n",
            "Accuracy:  0.9304668304668304\n",
            "Precision:  0.8793402777777778\n",
            "Recall:  0.8755401901469317\n",
            "F1 Score:  0.877436119532265\n",
            "-----------------------------\n",
            "Results for BOW with 4-grams:\n",
            " \n",
            "Accuracy:  0.9314496314496314\n",
            "Precision:  0.8919642857142858\n",
            "Recall:  0.8634399308556612\n",
            "F1 Score:  0.8774703557312254\n"
          ]
        }
      ]
    },
    {
      "cell_type": "code",
      "source": [
        "#Trying without stopwords\n",
        "print(\"Results for BOW with 1-grams removing stopwords:\")\n",
        "print(\" \")\n",
        "\n",
        "x_train_counts, x_test_counts = vectorizer('bow', stop_words = True)\n",
        "model_run(NB, x_train_counts, x_test_counts)"
      ],
      "metadata": {
        "colab": {
          "base_uri": "https://localhost:8080/"
        },
        "id": "VEs_nCEQyObE",
        "outputId": "1114ec34-aab2-457c-9220-4f067ca13679"
      },
      "execution_count": null,
      "outputs": [
        {
          "output_type": "stream",
          "name": "stdout",
          "text": [
            "Results for BOW with 1-grams removing stopwords:\n",
            " \n",
            "Accuracy:  0.9159705159705159\n",
            "Precision:  0.805701425356339\n",
            "Recall:  0.9282627484874676\n",
            "F1 Score:  0.8626506024096384\n"
          ]
        }
      ]
    },
    {
      "cell_type": "markdown",
      "source": [
        "#### tf-idf"
      ],
      "metadata": {
        "id": "az3SSdBfyZtC"
      }
    },
    {
      "cell_type": "code",
      "source": [
        "#Trying different ngrams\n",
        "print(\"Results for tfidf with 1-grams:\")\n",
        "print(\" \")\n",
        "\n",
        "x_train_counts, x_test_counts = vectorizer('tf')\n",
        "model_run(NB, x_train_counts, x_test_counts)\n",
        "\n",
        "print(\"-----------------------------\")\n",
        "print(\"Results for tfidf with 2-grams:\")\n",
        "print(\" \")\n",
        "\n",
        "x_train_counts, x_test_counts = vectorizer('tf', ngram = 2)\n",
        "model_run(NB, x_train_counts, x_test_counts)\n",
        "\n",
        "print(\"-----------------------------\")\n",
        "print(\"Results for tfidf with 3-grams:\")\n",
        "print(\" \")\n",
        "\n",
        "x_train_counts, x_test_counts = vectorizer('tf', ngram = 3)\n",
        "model_run(NB, x_train_counts, x_test_counts)"
      ],
      "metadata": {
        "colab": {
          "base_uri": "https://localhost:8080/"
        },
        "id": "X3-RFmXvouQ3",
        "outputId": "bbe5c34f-c5b6-4186-a304-85142e4f59cc"
      },
      "execution_count": null,
      "outputs": [
        {
          "output_type": "stream",
          "name": "stdout",
          "text": [
            "Results for tfidf with 1-grams:\n",
            " \n",
            "Accuracy:  0.8648648648648649\n",
            "Precision:  0.9354375896700143\n",
            "Recall:  0.5635263612791702\n",
            "F1 Score:  0.7033441208198489\n",
            "-----------------------------\n",
            "Results for tfidf with 2-grams:\n",
            " \n",
            "Accuracy:  0.8626535626535626\n",
            "Precision:  0.9557926829268293\n",
            "Recall:  0.5419187554019015\n",
            "F1 Score:  0.6916712630998344\n",
            "-----------------------------\n",
            "Results for tfidf with 3-grams:\n",
            " \n",
            "Accuracy:  0.8597051597051597\n",
            "Precision:  0.969551282051282\n",
            "Recall:  0.5229040622299049\n",
            "F1 Score:  0.6793935991016283\n"
          ]
        }
      ]
    },
    {
      "cell_type": "markdown",
      "source": [
        "### Conclusion:\n",
        "\n",
        "#### We can see that for BOW the results increase as n-gram increases and that stopwords removal does not improve the model.\n",
        "#### For TF-IDF higher n-gram does not increase the results.\n",
        "#### The **best** option would be to use 3-4 gram BOW.\n"
      ],
      "metadata": {
        "id": "WHt-wc1ozR4J"
      }
    },
    {
      "cell_type": "markdown",
      "source": [
        "## **Support Vector Machine**"
      ],
      "metadata": {
        "id": "zNn9sOkscpSf"
      }
    },
    {
      "cell_type": "markdown",
      "source": [
        "#### BOW"
      ],
      "metadata": {
        "id": "PcBo1G5UyyXH"
      }
    },
    {
      "cell_type": "code",
      "source": [
        "#Trying different ngrams\n",
        "print(\"Results for BOW with 1-grams:\")\n",
        "print(\" \")\n",
        "\n",
        "x_train_counts, x_test_counts = vectorizer('bow')\n",
        "model_run(SVM, x_train_counts, x_test_counts)\n",
        "\n",
        "print(\"-----------------------------\")\n",
        "print(\"Results for BOW with 2-grams:\")\n",
        "print(\" \")\n",
        "\n",
        "x_train_counts, x_test_counts = vectorizer('bow', ngram = 2)\n",
        "model_run(SVM, x_train_counts, x_test_counts)\n",
        "\n",
        "print(\"-----------------------------\")\n",
        "print(\"Results for BOW with 3-grams:\")\n",
        "print(\" \")\n",
        "\n",
        "x_train_counts, x_test_counts = vectorizer('bow', ngram = 3)\n",
        "model_run(SVM, x_train_counts, x_test_counts)"
      ],
      "metadata": {
        "colab": {
          "base_uri": "https://localhost:8080/"
        },
        "id": "tUcAPCem6tam",
        "outputId": "0185b76f-9e46-4b00-82ab-0c337ce61b3c"
      },
      "execution_count": null,
      "outputs": [
        {
          "output_type": "stream",
          "name": "stdout",
          "text": [
            "Results for BOW with 1-grams:\n",
            " \n",
            "Accuracy:  0.9442260442260443\n",
            "Precision:  0.9659318637274549\n",
            "Recall:  0.8331892826274849\n",
            "F1 Score:  0.8946635730858469\n",
            "-----------------------------\n",
            "Results for BOW with 2-grams:\n",
            " \n",
            "Accuracy:  0.9388206388206388\n",
            "Precision:  0.9670781893004116\n",
            "Recall:  0.8124459809853068\n",
            "F1 Score:  0.8830436824800377\n",
            "-----------------------------\n",
            "Results for BOW with 3-grams:\n",
            " \n",
            "Accuracy:  0.9316953316953317\n",
            "Precision:  0.9650793650793651\n",
            "Recall:  0.7882454624027658\n",
            "F1 Score:  0.8677450047573739\n"
          ]
        }
      ]
    },
    {
      "cell_type": "code",
      "source": [
        "#Trying without stopwords\n",
        "print(\"Results for BOW with 1-grams removing stopwords:\")\n",
        "print(\" \")\n",
        "\n",
        "x_train_counts, x_test_counts = vectorizer('bow', stop_words = True)\n",
        "model_run(SVM, x_train_counts, x_test_counts)"
      ],
      "metadata": {
        "colab": {
          "base_uri": "https://localhost:8080/"
        },
        "id": "XveqVXeuytbW",
        "outputId": "50974990-705a-4a4c-e5b8-1589636e4a4e"
      },
      "execution_count": null,
      "outputs": [
        {
          "output_type": "stream",
          "name": "stdout",
          "text": [
            "Results for BOW with 1-grams removing stopwords:\n",
            " \n",
            "Accuracy:  0.9417690417690417\n",
            "Precision:  0.96\n",
            "Recall:  0.8297320656871219\n",
            "F1 Score:  0.8901251738525731\n"
          ]
        }
      ]
    },
    {
      "cell_type": "markdown",
      "source": [
        "#### TF-IDF"
      ],
      "metadata": {
        "id": "fp0FTt90y1DN"
      }
    },
    {
      "cell_type": "code",
      "source": [
        "#Trying different ngrams\n",
        "print(\"Results for tdidf with 1-grams:\")\n",
        "print(\" \")\n",
        "\n",
        "x_train_counts, x_test_counts = vectorizer('tf')\n",
        "model_run(SVM, x_train_counts, x_test_counts)\n",
        "\n",
        "print(\"-----------------------------\")\n",
        "print(\"Results for tfidf with 2-grams:\")\n",
        "print(\" \")\n",
        "\n",
        "x_train_counts, x_test_counts = vectorizer('tf', ngram = 2)\n",
        "model_run(SVM, x_train_counts, x_test_counts)"
      ],
      "metadata": {
        "colab": {
          "base_uri": "https://localhost:8080/"
        },
        "id": "ngKgDveRvBCV",
        "outputId": "73ab3ee8-4cd2-4833-c0ae-ce01e0b6e781"
      },
      "execution_count": null,
      "outputs": [
        {
          "output_type": "stream",
          "name": "stdout",
          "text": [
            "Results for tdidf with 1-grams:\n",
            " \n",
            "Accuracy:  0.9513513513513514\n",
            "Precision:  0.9419354838709677\n",
            "Recall:  0.8833189282627485\n",
            "F1 Score:  0.911685994647636\n",
            "-----------------------------\n",
            "Results for tfidf with 2-grams:\n",
            " \n",
            "Accuracy:  0.9461916461916462\n",
            "Precision:  0.9318600368324125\n",
            "Recall:  0.874675885911841\n",
            "F1 Score:  0.9023629068212216\n"
          ]
        }
      ]
    },
    {
      "cell_type": "markdown",
      "source": [
        "### Conclusion:\n",
        "\n",
        "#### We can see that for BOW the results does not increase as n-gram increases and that stopwords removal does not improve the model.\n",
        "#### For TF-IDF higher n-gram does not increase and stopwords removal does not improve the model\n"
      ],
      "metadata": {
        "id": "nGQMkujmz53M"
      }
    },
    {
      "cell_type": "markdown",
      "source": [
        "## **Logistic Regression**"
      ],
      "metadata": {
        "id": "rUprG11Phsct"
      }
    },
    {
      "cell_type": "code",
      "source": [
        "#Trying different ngrams\n",
        "print(\"Results for BOW with 1-grams:\")\n",
        "print(\" \")\n",
        "\n",
        "x_train_counts, x_test_counts = vectorizer('bow')\n",
        "model_run(lr, x_train_counts, x_test_counts)\n",
        "\n",
        "print(\"-----------------------------\")\n",
        "print(\"Results for BOW with 2-grams:\")\n",
        "print(\" \")\n",
        "\n",
        "x_train_counts, x_test_counts = vectorizer('bow', ngram = 2)\n",
        "model_run(lr, x_train_counts, x_test_counts)\n",
        "\n",
        "print(\"-----------------------------\")\n",
        "print(\"Results for BOW with 3-grams:\")\n",
        "print(\" \")\n",
        "\n",
        "x_train_counts, x_test_counts = vectorizer('bow', ngram = 3)\n",
        "model_run(lr, x_train_counts, x_test_counts)"
      ],
      "metadata": {
        "colab": {
          "base_uri": "https://localhost:8080/"
        },
        "id": "YL_3emd-bTTJ",
        "outputId": "bb6996b3-6407-46f5-fee8-bf91744aa8a4"
      },
      "execution_count": null,
      "outputs": [
        {
          "output_type": "stream",
          "name": "stdout",
          "text": [
            "Results for BOW with 1-grams:\n",
            " \n"
          ]
        },
        {
          "output_type": "stream",
          "name": "stderr",
          "text": [
            "/usr/local/lib/python3.10/dist-packages/sklearn/linear_model/_logistic.py:458: ConvergenceWarning: lbfgs failed to converge (status=1):\n",
            "STOP: TOTAL NO. of ITERATIONS REACHED LIMIT.\n",
            "\n",
            "Increase the number of iterations (max_iter) or scale the data as shown in:\n",
            "    https://scikit-learn.org/stable/modules/preprocessing.html\n",
            "Please also refer to the documentation for alternative solver options:\n",
            "    https://scikit-learn.org/stable/modules/linear_model.html#logistic-regression\n",
            "  n_iter_i = _check_optimize_result(\n"
          ]
        },
        {
          "output_type": "stream",
          "name": "stdout",
          "text": [
            "Accuracy:  0.9493857493857494\n",
            "Precision:  0.9439775910364145\n",
            "Recall:  0.8738115816767502\n",
            "F1 Score:  0.9075403949730699\n",
            "-----------------------------\n",
            "Results for BOW with 2-grams:\n",
            " \n"
          ]
        },
        {
          "output_type": "stream",
          "name": "stderr",
          "text": [
            "/usr/local/lib/python3.10/dist-packages/sklearn/linear_model/_logistic.py:458: ConvergenceWarning: lbfgs failed to converge (status=1):\n",
            "STOP: TOTAL NO. of ITERATIONS REACHED LIMIT.\n",
            "\n",
            "Increase the number of iterations (max_iter) or scale the data as shown in:\n",
            "    https://scikit-learn.org/stable/modules/preprocessing.html\n",
            "Please also refer to the documentation for alternative solver options:\n",
            "    https://scikit-learn.org/stable/modules/linear_model.html#logistic-regression\n",
            "  n_iter_i = _check_optimize_result(\n"
          ]
        },
        {
          "output_type": "stream",
          "name": "stdout",
          "text": [
            "Accuracy:  0.9523341523341523\n",
            "Precision:  0.9538171536286523\n",
            "Recall:  0.874675885911841\n",
            "F1 Score:  0.9125338142470695\n",
            "-----------------------------\n",
            "Results for BOW with 3-grams:\n",
            " \n",
            "Accuracy:  0.9488943488943489\n",
            "Precision:  0.9558117195004803\n",
            "Recall:  0.8599827139152982\n",
            "F1 Score:  0.905368516833485\n"
          ]
        },
        {
          "output_type": "stream",
          "name": "stderr",
          "text": [
            "/usr/local/lib/python3.10/dist-packages/sklearn/linear_model/_logistic.py:458: ConvergenceWarning: lbfgs failed to converge (status=1):\n",
            "STOP: TOTAL NO. of ITERATIONS REACHED LIMIT.\n",
            "\n",
            "Increase the number of iterations (max_iter) or scale the data as shown in:\n",
            "    https://scikit-learn.org/stable/modules/preprocessing.html\n",
            "Please also refer to the documentation for alternative solver options:\n",
            "    https://scikit-learn.org/stable/modules/linear_model.html#logistic-regression\n",
            "  n_iter_i = _check_optimize_result(\n"
          ]
        }
      ]
    },
    {
      "cell_type": "code",
      "source": [
        "#Trying different ngrams\n",
        "print(\"Results for TF-IDF with 1-grams:\")\n",
        "print(\" \")\n",
        "\n",
        "x_train_counts, x_test_counts = vectorizer('tf')\n",
        "model_run(lr, x_train_counts, x_test_counts)\n",
        "\n",
        "print(\"-----------------------------\")\n",
        "print(\"Results for TF-IDF with 2-grams:\")\n",
        "print(\" \")\n",
        "\n",
        "x_train_counts, x_test_counts = vectorizer('tf', ngram = 2)\n",
        "model_run(lr, x_train_counts, x_test_counts)"
      ],
      "metadata": {
        "colab": {
          "base_uri": "https://localhost:8080/"
        },
        "id": "BgKLYmHAz7tu",
        "outputId": "2277d80d-eb43-461e-89cb-6364bc34e5c1"
      },
      "execution_count": null,
      "outputs": [
        {
          "output_type": "stream",
          "name": "stdout",
          "text": [
            "Results for TF-IDF with 1-grams:\n",
            " \n",
            "Accuracy:  0.9316953316953317\n",
            "Precision:  0.9181731684110371\n",
            "Recall:  0.8340535868625756\n",
            "F1 Score:  0.8740942028985507\n",
            "-----------------------------\n",
            "Results for TF-IDF with 2-grams:\n",
            " \n",
            "Accuracy:  0.9324324324324325\n",
            "Precision:  0.9216061185468452\n",
            "Recall:  0.8331892826274849\n",
            "F1 Score:  0.8751702224239674\n"
          ]
        }
      ]
    },
    {
      "cell_type": "markdown",
      "source": [
        "### Conclusion:\n",
        "\n",
        "#### We can see that for BOW the results increase as n-gram increases and that stopwords removal does not improve the model.\n",
        "#### For TF-IDF higher n-gram does not increase and stopwords removal does not improve the model\n"
      ],
      "metadata": {
        "id": "BIEQ17Sbz8AL"
      }
    },
    {
      "cell_type": "markdown",
      "source": [
        "## **Decision Tree**"
      ],
      "metadata": {
        "id": "-nPhLHi2NCR_"
      }
    },
    {
      "cell_type": "markdown",
      "source": [
        "### Decision Tree with BOW (default parameter)"
      ],
      "metadata": {
        "id": "V_k6IUrpNN0Y"
      }
    },
    {
      "cell_type": "code",
      "source": [
        "from sklearn.tree import DecisionTreeClassifier\n",
        "from sklearn.feature_extraction.text import CountVectorizer\n",
        "from sklearn.metrics import classification_report, log_loss, roc_curve, auc\n",
        "from sklearn.pipeline import Pipeline\n",
        "\n",
        "pipeline = Pipeline([\n",
        "    ('bow', CountVectorizer(analyzer=text_processing_emoji)),\n",
        "    ('Classifier', DecisionTreeClassifier())\n",
        "])\n",
        "\n",
        "pipeline.fit(x_train, y_train)\n",
        "\n",
        "predictions = pipeline.predict(x_test)\n",
        "y_pred_proba = pipeline.predict_proba(x_test) #predicted probability\n",
        "loss = log_loss(y_test, y_pred_proba)\n",
        "\n",
        "print(classification_report(predictions, y_test))\n",
        "print('Log Loss = ', loss)\n",
        "\n",
        "\n",
        "from sklearn.metrics import confusion_matrix\n",
        "import seaborn as sns\n",
        "import matplotlib.pyplot as plt\n",
        "\n",
        "cm = confusion_matrix(y_test, predictions)\n",
        "sns.heatmap(cm, annot=True, fmt='d', cmap='Blues')\n",
        "plt.xlabel('Predicted')\n",
        "plt.ylabel('Actual')\n",
        "plt.title('Confusion Matrix')\n",
        "plt.show()"
      ],
      "metadata": {
        "id": "2c48PQZmNEcT"
      },
      "execution_count": null,
      "outputs": []
    },
    {
      "cell_type": "markdown",
      "source": [
        "### Decision Tree with TFIDF (Default Parameter)"
      ],
      "metadata": {
        "id": "39pX6Pc6Npo9"
      }
    },
    {
      "cell_type": "code",
      "source": [
        "from sklearn.feature_extraction.text import TfidfVectorizer\n",
        "\n",
        "pipeline = Pipeline([\n",
        "    ('tfidf', TfidfVectorizer(analyzer=text_processing_emoji)),\n",
        "    ('Classifier', DecisionTreeClassifier())\n",
        "])\n",
        "\n",
        "pipeline.fit(x_train, y_train)\n",
        "\n",
        "predictions = pipeline.predict(x_test)\n",
        "y_pred_proba = pipeline.predict_proba(x_test) #predicted probability\n",
        "loss = log_loss(y_test, y_pred_proba)\n",
        "\n",
        "print(classification_report(predictions, y_test))\n",
        "print('Log Loss = ', loss)\n",
        "\n",
        "\n",
        "from sklearn.metrics import confusion_matrix\n",
        "import seaborn as sns\n",
        "import matplotlib.pyplot as plt\n",
        "\n",
        "cm = confusion_matrix(y_test, predictions)\n",
        "sns.heatmap(cm, annot=True, fmt='d', cmap='Blues')\n",
        "plt.xlabel('Predicted')\n",
        "plt.ylabel('Actual')\n",
        "plt.title('Confusion Matrix')\n",
        "plt.show()"
      ],
      "metadata": {
        "id": "j553ni2fNsVN"
      },
      "execution_count": null,
      "outputs": []
    },
    {
      "cell_type": "markdown",
      "source": [
        "### Using Cross Validation to find the best max_depth value for Decision Tree with BOW\n",
        "\n"
      ],
      "metadata": {
        "id": "U9QST9zJNuCp"
      }
    },
    {
      "cell_type": "code",
      "source": [
        "# Using Cross Validation to find the best max_depth value\n",
        "from sklearn.model_selection import GridSearchCV\n",
        "\n",
        "pipeline = Pipeline([\n",
        "    ('bow', CountVectorizer(analyzer=text_processing_emoji)),\n",
        "    ('classifier', DecisionTreeClassifier())\n",
        "])\n",
        "\n",
        "# Define the parameter grid for the RandomForestClassifier\n",
        "param_grid = {\n",
        "    'classifier__max_depth': [20, 50, 100]\n",
        "}\n",
        "\n",
        "# Perform grid search\n",
        "grid_search = GridSearchCV(pipeline, param_grid, cv=2)\n",
        "grid_search.fit(x_train, y_train)\n",
        "\n",
        "# Print the best parameters and classification report\n",
        "print(\"Best Parameters:\", grid_search.best_params_)\n",
        "\n",
        "predictions = grid_search.predict(x_test)\n",
        "y_pred_proba = grid_search.predict_proba(x_test) #predicted probability\n",
        "loss = log_loss(y_test, y_pred_proba)\n",
        "\n",
        "print(classification_report(predictions, y_test))\n",
        "print('Log Loss = ', loss)"
      ],
      "metadata": {
        "id": "h2fzwGfbNwOm"
      },
      "execution_count": null,
      "outputs": []
    },
    {
      "cell_type": "markdown",
      "source": [
        "### Using Cross Validation to find the best max_depth value for Decision Tree with TFIDF\n",
        "\n",
        "\n",
        "\n"
      ],
      "metadata": {
        "id": "zH4zKQEhNyQg"
      }
    },
    {
      "cell_type": "code",
      "source": [
        "# Using Cross Validation to find the best max_depth value\n",
        "from sklearn.model_selection import GridSearchCV\n",
        "\n",
        "pipeline = Pipeline([\n",
        "    ('tfidf', TfidfVectorizer(analyzer=text_processing_emoji)),\n",
        "    ('classifier', DecisionTreeClassifier())\n",
        "])\n",
        "\n",
        "# Define the parameter grid for the RandomForestClassifier\n",
        "param_grid = {\n",
        "    'classifier__max_depth': [20, 50, 100]\n",
        "}\n",
        "\n",
        "# Perform grid search\n",
        "grid_search = GridSearchCV(pipeline, param_grid, cv=2)\n",
        "grid_search.fit(x_train, y_train)\n",
        "\n",
        "# Print the best parameters and classification report\n",
        "print(\"Best Parameters:\", grid_search.best_params_)\n",
        "\n",
        "predictions = grid_search.predict(x_test)\n",
        "y_pred_proba = grid_search.predict_proba(x_test) #predicted probability\n",
        "loss = log_loss(y_test, y_pred_proba)\n",
        "\n",
        "print(classification_report(predictions, y_test))\n",
        "print('Log Loss = ', loss)"
      ],
      "metadata": {
        "id": "gsYNQJeNN0Ie"
      },
      "execution_count": null,
      "outputs": []
    },
    {
      "cell_type": "markdown",
      "source": [
        "## **Random Forest**"
      ],
      "metadata": {
        "id": "3nSe_9X_OJ_g"
      }
    },
    {
      "cell_type": "markdown",
      "source": [
        "### Random Forest with BOW (Default Parameters)"
      ],
      "metadata": {
        "id": "0Pw7LwZXOSwz"
      }
    },
    {
      "cell_type": "code",
      "source": [
        "from sklearn.ensemble import RandomForestClassifier\n",
        "pipeline = Pipeline([\n",
        "    ('bow', CountVectorizer(analyzer=text_processing_emoji)),\n",
        "    ('classifier', RandomForestClassifier())\n",
        "])\n",
        "\n",
        "pipeline.fit(x_train, y_train)\n",
        "\n",
        "predictions = pipeline.predict(x_test)\n",
        "y_pred_proba = pipeline.predict_proba(x_test) #predicted probability\n",
        "loss = log_loss(y_test, y_pred_proba)\n",
        "\n",
        "print(classification_report(predictions, y_test))\n",
        "print('Log Loss = ', loss)\n",
        "\n",
        "from sklearn.metrics import confusion_matrix\n",
        "import seaborn as sns\n",
        "import matplotlib.pyplot as plt\n",
        "\n",
        "cm = confusion_matrix(y_test, predictions)\n",
        "sns.heatmap(cm, annot=True, fmt='d', cmap='Blues')\n",
        "plt.xlabel('Predicted')\n",
        "plt.ylabel('Actual')\n",
        "plt.title('Confusion Matrix')\n",
        "plt.show()"
      ],
      "metadata": {
        "id": "_xpFoGD7Obwi"
      },
      "execution_count": null,
      "outputs": []
    },
    {
      "cell_type": "markdown",
      "source": [
        "### Random Forest with TFIDF (Default Parameters)"
      ],
      "metadata": {
        "id": "wRp7IHlrOirA"
      }
    },
    {
      "cell_type": "code",
      "source": [
        "pipeline = Pipeline([\n",
        "    ('tfidf', TfidfVectorizer(analyzer=text_processing_emoji)),\n",
        "    ('classifier', RandomForestClassifier())\n",
        "])\n",
        "\n",
        "pipeline.fit(x_train, y_train)\n",
        "\n",
        "predictions = pipeline.predict(x_test)\n",
        "y_pred_proba = pipeline.predict_proba(x_test) #predicted probability\n",
        "loss = log_loss(y_test, y_pred_proba)\n",
        "\n",
        "print(classification_report(predictions, y_test))\n",
        "print('Log Loss = ', loss)\n",
        "\n",
        "from sklearn.metrics import confusion_matrix\n",
        "import seaborn as sns\n",
        "import matplotlib.pyplot as plt\n",
        "\n",
        "cm = confusion_matrix(y_test, predictions)\n",
        "sns.heatmap(cm, annot=True, fmt='d', cmap='Blues')\n",
        "plt.xlabel('Predicted')\n",
        "plt.ylabel('Actual')\n",
        "plt.title('Confusion Matrix')\n",
        "plt.show()"
      ],
      "metadata": {
        "id": "bIO1ASHROj2q"
      },
      "execution_count": null,
      "outputs": []
    },
    {
      "cell_type": "markdown",
      "source": [
        "### Using Cross Validation to find the best max_depth and n_estimators values for Random Forest with BOW"
      ],
      "metadata": {
        "id": "zw5u-VLWOlho"
      }
    },
    {
      "cell_type": "code",
      "source": [
        "#finding the best parameter RandomForest BOW\n",
        "\n",
        "\n",
        "pipeline = Pipeline([\n",
        "    ('bow', CountVectorizer(analyzer=text_processing_emoji)),\n",
        "    ('classifier', RandomForestClassifier())\n",
        "])\n",
        "\n",
        "# Define the parameter grid for the RandomForestClassifier\n",
        "param_grid = {\n",
        "    'classifier__max_depth': [20, 50, 100],\n",
        "    'classifier__n_estimators': [50, 100, 150]\n",
        "}\n",
        "\n",
        "# Perform grid search\n",
        "grid_search = GridSearchCV(pipeline, param_grid, cv=2)\n",
        "grid_search.fit(x_train, y_train)\n",
        "\n",
        "# Print the best parameters and classification report\n",
        "print(\"Best Parameters:\", grid_search.best_params_)\n",
        "\n",
        "predictions = grid_search.predict(x_test)\n",
        "y_pred_proba = grid_search.predict_proba(x_test) #predicted probability\n",
        "loss = log_loss(y_test, y_pred_proba)\n",
        "\n",
        "print(classification_report(predictions, y_test))\n",
        "print('Log Loss = ', loss)"
      ],
      "metadata": {
        "id": "hOUe4t0VOnF1"
      },
      "execution_count": null,
      "outputs": []
    },
    {
      "cell_type": "markdown",
      "source": [
        "### Using Cross Validation to find the best max_depth and n_estimators values for Random Forest with TFIDF"
      ],
      "metadata": {
        "id": "BFZHajM-Oo9N"
      }
    },
    {
      "cell_type": "code",
      "source": [
        "#finding the best parameter RandomForest TFIDF\n",
        "\n",
        "pipeline = Pipeline([\n",
        "    ('tfidf', TfidfVectorizer(analyzer=text_processing_emoji)),\n",
        "    ('classifier', RandomForestClassifier())\n",
        "])\n",
        "\n",
        "# Define the parameter grid for the RandomForestClassifier\n",
        "param_grid = {\n",
        "    'classifier__max_depth': [20, 50, 100],\n",
        "    'classifier__n_estimators': [50, 100, 150]\n",
        "}\n",
        "\n",
        "# Perform grid search\n",
        "grid_search = GridSearchCV(pipeline, param_grid, cv=2)\n",
        "grid_search.fit(x_train, y_train)\n",
        "\n",
        "# Print the best parameters and classification report\n",
        "print(\"Best Parameters:\", grid_search.best_params_)\n",
        "\n",
        "predictions = grid_search.predict(x_test)\n",
        "y_pred_proba = grid_search.predict_proba(x_test) #predicted probability\n",
        "loss = log_loss(y_test, y_pred_proba)\n",
        "\n",
        "print(classification_report(predictions, y_test))\n",
        "print('Log Loss = ', loss)"
      ],
      "metadata": {
        "id": "wt2lMG-pOqjX"
      },
      "execution_count": null,
      "outputs": []
    },
    {
      "cell_type": "markdown",
      "source": [
        "### Manual Hyperparameter Tuning for Random Forest"
      ],
      "metadata": {
        "id": "cx8g1dKuOsDF"
      }
    },
    {
      "cell_type": "code",
      "source": [
        "# n_estimators=150 (BOW)\n",
        "from sklearn.ensemble import RandomForestClassifier\n",
        "pipeline = Pipeline([\n",
        "    ('bow', CountVectorizer(analyzer=text_processing_emoji)),\n",
        "    ('classifier', RandomForestClassifier(n_estimators=150))\n",
        "])\n",
        "\n",
        "pipeline.fit(x_train, y_train)\n",
        "\n",
        "predictions = pipeline.predict(x_test)\n",
        "y_pred_proba = pipeline.predict_proba(x_test) #predicted probability\n",
        "loss = log_loss(y_test, y_pred_proba)\n",
        "\n",
        "print(classification_report(predictions, y_test))\n",
        "print('Log Loss = ', loss)"
      ],
      "metadata": {
        "id": "FvrSuhSwOuK7"
      },
      "execution_count": null,
      "outputs": []
    },
    {
      "cell_type": "code",
      "source": [
        "# n_estimators=150 (TFIDF)\n",
        "from sklearn.ensemble import RandomForestClassifier\n",
        "pipeline = Pipeline([\n",
        "    ('tfidf', TfidfVectorizer(analyzer=text_processing_emoji)),\n",
        "    ('classifier', RandomForestClassifier(n_estimators=150))\n",
        "])\n",
        "\n",
        "pipeline.fit(x_train, y_train)\n",
        "\n",
        "predictions = pipeline.predict(x_test)\n",
        "y_pred_proba = pipeline.predict_proba(x_test) #predicted probability\n",
        "loss = log_loss(y_test, y_pred_proba)\n",
        "\n",
        "print(classification_report(predictions, y_test))\n",
        "print('Log Loss = ', loss)"
      ],
      "metadata": {
        "id": "RGaYdgFcOvlX"
      },
      "execution_count": null,
      "outputs": []
    },
    {
      "cell_type": "code",
      "source": [
        "# max_depth=100 (BOW)\n",
        "from sklearn.ensemble import RandomForestClassifier\n",
        "pipeline = Pipeline([\n",
        "    ('bow', CountVectorizer(analyzer=text_processing_emoji)),\n",
        "    ('classifier', RandomForestClassifier(max_depth=100))\n",
        "])\n",
        "\n",
        "pipeline.fit(x_train, y_train)\n",
        "\n",
        "predictions = pipeline.predict(x_test)\n",
        "y_pred_proba = pipeline.predict_proba(x_test) #predicted probability\n",
        "loss = log_loss(y_test, y_pred_proba)\n",
        "\n",
        "print(classification_report(predictions, y_test))\n",
        "print('Log Loss = ', loss)"
      ],
      "metadata": {
        "id": "r6Mx921KOw03"
      },
      "execution_count": null,
      "outputs": []
    },
    {
      "cell_type": "code",
      "source": [
        "# max_depth=100 (TFIDF)\n",
        "from sklearn.ensemble import RandomForestClassifier\n",
        "pipeline = Pipeline([\n",
        "    ('tfidf', TfidfVectorizer(analyzer=text_processing_emoji)),\n",
        "    ('classifier', RandomForestClassifier(max_depth=100))\n",
        "])\n",
        "\n",
        "pipeline.fit(x_train, y_train)\n",
        "\n",
        "predictions = pipeline.predict(x_test)\n",
        "y_pred_proba = pipeline.predict_proba(x_test) #predicted probability\n",
        "loss = log_loss(y_test, y_pred_proba)\n",
        "\n",
        "print(classification_report(predictions, y_test))\n",
        "print('Log Loss = ', loss)"
      ],
      "metadata": {
        "id": "LbjfRv2SOyHt"
      },
      "execution_count": null,
      "outputs": []
    },
    {
      "cell_type": "markdown",
      "source": [
        "# Data Visualisation"
      ],
      "metadata": {
        "id": "fclhdB1eWx_D"
      }
    },
    {
      "cell_type": "code",
      "source": [
        "acc=[]\n",
        "model=[]"
      ],
      "metadata": {
        "id": "FJCP38UJXAip"
      },
      "execution_count": null,
      "outputs": []
    },
    {
      "cell_type": "code",
      "source": [
        "acc.append(accc)\n",
        "model.append('Logistic Regression(bow)')"
      ],
      "metadata": {
        "id": "4RfPr35MXK9R"
      },
      "execution_count": null,
      "outputs": []
    },
    {
      "cell_type": "code",
      "source": [
        "plt.barh(model,acc)\n",
        "plt.title('Accuracy of different models')\n",
        "plt.xlabel('Accuracy')\n",
        "\n",
        "for index, value in enumerate(acc):\n",
        "    plt.text(value, index,str(value))\n",
        "plt.show()"
      ],
      "metadata": {
        "id": "9ZqONqrTXNk9"
      },
      "execution_count": null,
      "outputs": []
    }
  ]
}